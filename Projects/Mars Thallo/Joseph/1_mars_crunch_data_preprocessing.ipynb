{
  "cells": [
    {
      "cell_type": "code",
      "execution_count": 6,
      "id": "31acf272-902c-4b61-ade4-848335a95224",
      "metadata": {
        "gather": {
          "logged": 1722926586993
        },
        "jupyter": {
          "outputs_hidden": false,
          "source_hidden": false
        },
        "nteract": {
          "transient": {
            "deleting": false
          }
        }
      },
      "outputs": [
        {
          "name": "stdout",
          "output_type": "stream",
          "text": [
            "\u001b[31mERROR: Invalid requirement: 'scikit-learn,openpyxl': Expected end or semicolon (after name and no valid version specifier)\n",
            "    scikit-learn,openpyxl\n",
            "                ^\u001b[0m\u001b[31m\n",
            "\u001b[0mNote: you may need to restart the kernel to use updated packages.\n"
          ]
        }
      ],
      "source": [
        "pip install scikit-learn"
      ]
    },
    {
      "cell_type": "code",
      "execution_count": 2,
      "id": "16ed1856",
      "metadata": {
        "gather": {
          "logged": 1722929794052
        }
      },
      "outputs": [],
      "source": [
        "import pandas as pd\n",
        "import seaborn as sns\n",
        "import numpy as np\n",
        "import warnings \n",
        "warnings.filterwarnings('ignore')\n",
        "from sklearn.linear_model import LinearRegression\n"
      ]
    },
    {
      "cell_type": "code",
      "execution_count": 5,
      "id": "89da292b-4c11-4940-a4f2-d353b015ba0c",
      "metadata": {
        "gather": {
          "logged": 1722929968189
        },
        "jupyter": {
          "outputs_hidden": false,
          "source_hidden": false
        },
        "nteract": {
          "transient": {
            "deleting": false
          }
        }
      },
      "outputs": [
        {
          "data": {
            "text/html": [
              "<div>\n",
              "<style scoped>\n",
              "    .dataframe tbody tr th:only-of-type {\n",
              "        vertical-align: middle;\n",
              "    }\n",
              "\n",
              "    .dataframe tbody tr th {\n",
              "        vertical-align: top;\n",
              "    }\n",
              "\n",
              "    .dataframe thead th {\n",
              "        text-align: right;\n",
              "    }\n",
              "</style>\n",
              "<table border=\"1\" class=\"dataframe\">\n",
              "  <thead>\n",
              "    <tr style=\"text-align: right;\">\n",
              "      <th></th>\n",
              "      <th>0</th>\n",
              "      <th>1</th>\n",
              "      <th>2</th>\n",
              "      <th>3</th>\n",
              "      <th>4</th>\n",
              "      <th>5</th>\n",
              "      <th>6</th>\n",
              "      <th>7</th>\n",
              "      <th>8</th>\n",
              "      <th>9</th>\n",
              "      <th>...</th>\n",
              "      <th>14</th>\n",
              "      <th>15</th>\n",
              "      <th>16</th>\n",
              "      <th>17</th>\n",
              "      <th>18</th>\n",
              "      <th>19</th>\n",
              "      <th>20</th>\n",
              "      <th>21</th>\n",
              "      <th>22</th>\n",
              "      <th>23</th>\n",
              "    </tr>\n",
              "  </thead>\n",
              "  <tbody>\n",
              "    <tr>\n",
              "      <th>0</th>\n",
              "      <td>2024-06-21</td>\n",
              "      <td>13:22</td>\n",
              "      <td>A</td>\n",
              "      <td>NaN</td>\n",
              "      <td>73-24</td>\n",
              "      <td>39-25</td>\n",
              "      <td>90-22</td>\n",
              "      <td>68-24</td>\n",
              "      <td>165-20</td>\n",
              "      <td>192-20</td>\n",
              "      <td>...</td>\n",
              "      <td>234-20</td>\n",
              "      <td>3-18</td>\n",
              "      <td>220-22</td>\n",
              "      <td>236-20</td>\n",
              "      <td>126-20</td>\n",
              "      <td>132-20</td>\n",
              "      <td>89-19</td>\n",
              "      <td>210-18</td>\n",
              "      <td>30-20</td>\n",
              "      <td>201-20</td>\n",
              "    </tr>\n",
              "    <tr>\n",
              "      <th>1</th>\n",
              "      <td>2024-06-21</td>\n",
              "      <td>13:31</td>\n",
              "      <td>A</td>\n",
              "      <td>13:22</td>\n",
              "      <td>12-20</td>\n",
              "      <td>35-22</td>\n",
              "      <td>71-20</td>\n",
              "      <td>213-20</td>\n",
              "      <td>223-20</td>\n",
              "      <td>212-21</td>\n",
              "      <td>...</td>\n",
              "      <td>233-20</td>\n",
              "      <td>235-20</td>\n",
              "      <td>239-20</td>\n",
              "      <td>82-20</td>\n",
              "      <td>20</td>\n",
              "      <td>143-20</td>\n",
              "      <td>138-20</td>\n",
              "      <td>141-20</td>\n",
              "      <td>48-18</td>\n",
              "      <td>28-20</td>\n",
              "    </tr>\n",
              "    <tr>\n",
              "      <th>2</th>\n",
              "      <td>2024-06-21</td>\n",
              "      <td>13:45</td>\n",
              "      <td>A</td>\n",
              "      <td>13:30</td>\n",
              "      <td>106-20</td>\n",
              "      <td>161-20</td>\n",
              "      <td>205-22</td>\n",
              "      <td>116-20</td>\n",
              "      <td>158-20</td>\n",
              "      <td>163-20</td>\n",
              "      <td>...</td>\n",
              "      <td>32-20</td>\n",
              "      <td>19-20</td>\n",
              "      <td>142-20</td>\n",
              "      <td>88-20</td>\n",
              "      <td>181-20</td>\n",
              "      <td>148-20</td>\n",
              "      <td>169-20</td>\n",
              "      <td>188-20</td>\n",
              "      <td>24-20</td>\n",
              "      <td>8-20</td>\n",
              "    </tr>\n",
              "    <tr>\n",
              "      <th>3</th>\n",
              "      <td>2024-06-21</td>\n",
              "      <td>13:52</td>\n",
              "      <td>A</td>\n",
              "      <td>13:45</td>\n",
              "      <td>177-20</td>\n",
              "      <td>129-20</td>\n",
              "      <td>144-20</td>\n",
              "      <td>120-20</td>\n",
              "      <td>136-20</td>\n",
              "      <td>145-20</td>\n",
              "      <td>...</td>\n",
              "      <td>36-22</td>\n",
              "      <td>230-20</td>\n",
              "      <td>168-20</td>\n",
              "      <td>224-20</td>\n",
              "      <td>179-20</td>\n",
              "      <td>57-20</td>\n",
              "      <td>95-20</td>\n",
              "      <td>7-20</td>\n",
              "      <td>111-20</td>\n",
              "      <td>NaN</td>\n",
              "    </tr>\n",
              "    <tr>\n",
              "      <th>4</th>\n",
              "      <td>2024-06-21</td>\n",
              "      <td>12:59</td>\n",
              "      <td>刘婷婷</td>\n",
              "      <td>12:59</td>\n",
              "      <td>81-22</td>\n",
              "      <td>122-25</td>\n",
              "      <td>157-22</td>\n",
              "      <td>153-19</td>\n",
              "      <td>139-20</td>\n",
              "      <td>166-20</td>\n",
              "      <td>...</td>\n",
              "      <td>16-22</td>\n",
              "      <td>76-25</td>\n",
              "      <td>182-25</td>\n",
              "      <td>190-20</td>\n",
              "      <td>69-18</td>\n",
              "      <td>218-20</td>\n",
              "      <td>159-20</td>\n",
              "      <td>51-20</td>\n",
              "      <td>107-20</td>\n",
              "      <td>60-20</td>\n",
              "    </tr>\n",
              "    <tr>\n",
              "      <th>5</th>\n",
              "      <td>2024-06-21</td>\n",
              "      <td>13:07</td>\n",
              "      <td>刘婷婷</td>\n",
              "      <td>13:06</td>\n",
              "      <td>56-25</td>\n",
              "      <td>105-20</td>\n",
              "      <td>176-23</td>\n",
              "      <td>83-20</td>\n",
              "      <td>229-20</td>\n",
              "      <td>86-25</td>\n",
              "      <td>...</td>\n",
              "      <td>225-20</td>\n",
              "      <td>215-25</td>\n",
              "      <td>170-25</td>\n",
              "      <td>40-25</td>\n",
              "      <td>96-25</td>\n",
              "      <td>31-25</td>\n",
              "      <td>25-15</td>\n",
              "      <td>109-5</td>\n",
              "      <td>91-23</td>\n",
              "      <td>117-20</td>\n",
              "    </tr>\n",
              "    <tr>\n",
              "      <th>6</th>\n",
              "      <td>2024-06-21</td>\n",
              "      <td>13:14</td>\n",
              "      <td>刘婷婷</td>\n",
              "      <td>13:14</td>\n",
              "      <td>231-25</td>\n",
              "      <td>38-25</td>\n",
              "      <td>17-20</td>\n",
              "      <td>52-20</td>\n",
              "      <td>189-20</td>\n",
              "      <td>9-23</td>\n",
              "      <td>...</td>\n",
              "      <td>65-20</td>\n",
              "      <td>151-18</td>\n",
              "      <td>67-20</td>\n",
              "      <td>195-18</td>\n",
              "      <td>133-20</td>\n",
              "      <td>119-20</td>\n",
              "      <td>37-25</td>\n",
              "      <td>6-25</td>\n",
              "      <td>194-17</td>\n",
              "      <td>93-20</td>\n",
              "    </tr>\n",
              "    <tr>\n",
              "      <th>7</th>\n",
              "      <td>2024-06-21</td>\n",
              "      <td>13:20</td>\n",
              "      <td>刘婷婷</td>\n",
              "      <td>13:20</td>\n",
              "      <td>208-25</td>\n",
              "      <td>198-25</td>\n",
              "      <td>152-25</td>\n",
              "      <td>211-25</td>\n",
              "      <td>191-18</td>\n",
              "      <td>11-20</td>\n",
              "      <td>...</td>\n",
              "      <td>58-25</td>\n",
              "      <td>20-20</td>\n",
              "      <td>137-20</td>\n",
              "      <td>92-20</td>\n",
              "      <td>47-20</td>\n",
              "      <td>74-20</td>\n",
              "      <td>134-22</td>\n",
              "      <td>114-22</td>\n",
              "      <td>209-25</td>\n",
              "      <td>199-25</td>\n",
              "    </tr>\n",
              "    <tr>\n",
              "      <th>8</th>\n",
              "      <td>2024-06-21</td>\n",
              "      <td>13:31</td>\n",
              "      <td>戈东</td>\n",
              "      <td>13:23</td>\n",
              "      <td>84-18</td>\n",
              "      <td>108-20</td>\n",
              "      <td>135-20</td>\n",
              "      <td>232-20</td>\n",
              "      <td>160-20</td>\n",
              "      <td>214-20</td>\n",
              "      <td>...</td>\n",
              "      <td>221-20</td>\n",
              "      <td>66-21</td>\n",
              "      <td>174-19</td>\n",
              "      <td>180-20</td>\n",
              "      <td>228-21</td>\n",
              "      <td>45-16</td>\n",
              "      <td>98-20</td>\n",
              "      <td>149-20</td>\n",
              "      <td>112-18</td>\n",
              "      <td>41-20</td>\n",
              "    </tr>\n",
              "    <tr>\n",
              "      <th>9</th>\n",
              "      <td>2024-06-21</td>\n",
              "      <td>13:49</td>\n",
              "      <td>戈东</td>\n",
              "      <td>13:31</td>\n",
              "      <td>171-18</td>\n",
              "      <td>115-19</td>\n",
              "      <td>164-20</td>\n",
              "      <td>27-20</td>\n",
              "      <td>87-16</td>\n",
              "      <td>124-20</td>\n",
              "      <td>...</td>\n",
              "      <td>113-18</td>\n",
              "      <td>14-20</td>\n",
              "      <td>33-20</td>\n",
              "      <td>172-21</td>\n",
              "      <td>77-20</td>\n",
              "      <td>54-20</td>\n",
              "      <td>2-21</td>\n",
              "      <td>123-21</td>\n",
              "      <td>167-15</td>\n",
              "      <td>15-19</td>\n",
              "    </tr>\n",
              "    <tr>\n",
              "      <th>10</th>\n",
              "      <td>2024-06-21</td>\n",
              "      <td>13:54</td>\n",
              "      <td>戈东</td>\n",
              "      <td>13:49</td>\n",
              "      <td>202-20</td>\n",
              "      <td>222-18</td>\n",
              "      <td>125-20</td>\n",
              "      <td>61-20</td>\n",
              "      <td>184-21</td>\n",
              "      <td>173-20</td>\n",
              "      <td>...</td>\n",
              "      <td>64-20</td>\n",
              "      <td>127-21</td>\n",
              "      <td>103-21</td>\n",
              "      <td>104-18</td>\n",
              "      <td>4-20</td>\n",
              "      <td>80-19</td>\n",
              "      <td>131-21</td>\n",
              "      <td>146-23</td>\n",
              "      <td>78-20</td>\n",
              "      <td>219-20</td>\n",
              "    </tr>\n",
              "    <tr>\n",
              "      <th>11</th>\n",
              "      <td>2024-06-21</td>\n",
              "      <td>14:26</td>\n",
              "      <td>戈东</td>\n",
              "      <td>13:54</td>\n",
              "      <td>44-20</td>\n",
              "      <td>175-20</td>\n",
              "      <td>50-18</td>\n",
              "      <td>178-20</td>\n",
              "      <td>217-22</td>\n",
              "      <td>70-20</td>\n",
              "      <td>...</td>\n",
              "      <td>23-22</td>\n",
              "      <td>186-23</td>\n",
              "      <td>110-18</td>\n",
              "      <td>150-23</td>\n",
              "      <td>130-19</td>\n",
              "      <td>196-18</td>\n",
              "      <td>21-20</td>\n",
              "      <td>5-20</td>\n",
              "      <td>187-22</td>\n",
              "      <td>10-21</td>\n",
              "    </tr>\n",
              "  </tbody>\n",
              "</table>\n",
              "<p>12 rows × 24 columns</p>\n",
              "</div>"
            ],
            "text/plain": [
              "            0      1    2      3       4       5       6       7       8    \n",
              "0   2024-06-21  13:22    A    NaN   73-24   39-25   90-22   68-24  165-20  \\\n",
              "1   2024-06-21  13:31    A  13:22   12-20   35-22   71-20  213-20  223-20   \n",
              "2   2024-06-21  13:45    A  13:30  106-20  161-20  205-22  116-20  158-20   \n",
              "3   2024-06-21  13:52    A  13:45  177-20  129-20  144-20  120-20  136-20   \n",
              "4   2024-06-21  12:59  刘婷婷  12:59   81-22  122-25  157-22  153-19  139-20   \n",
              "5   2024-06-21  13:07  刘婷婷  13:06   56-25  105-20  176-23   83-20  229-20   \n",
              "6   2024-06-21  13:14  刘婷婷  13:14  231-25   38-25   17-20   52-20  189-20   \n",
              "7   2024-06-21  13:20  刘婷婷  13:20  208-25  198-25  152-25  211-25  191-18   \n",
              "8   2024-06-21  13:31   戈东  13:23   84-18  108-20  135-20  232-20  160-20   \n",
              "9   2024-06-21  13:49   戈东  13:31  171-18  115-19  164-20   27-20   87-16   \n",
              "10  2024-06-21  13:54   戈东  13:49  202-20  222-18  125-20   61-20  184-21   \n",
              "11  2024-06-21  14:26   戈东  13:54   44-20  175-20   50-18  178-20  217-22   \n",
              "\n",
              "        9   ...      14      15      16      17      18      19      20   \n",
              "0   192-20  ...  234-20    3-18  220-22  236-20  126-20  132-20   89-19  \\\n",
              "1   212-21  ...  233-20  235-20  239-20   82-20      20  143-20  138-20   \n",
              "2   163-20  ...   32-20   19-20  142-20   88-20  181-20  148-20  169-20   \n",
              "3   145-20  ...   36-22  230-20  168-20  224-20  179-20   57-20   95-20   \n",
              "4   166-20  ...   16-22   76-25  182-25  190-20   69-18  218-20  159-20   \n",
              "5    86-25  ...  225-20  215-25  170-25   40-25   96-25   31-25   25-15   \n",
              "6     9-23  ...   65-20  151-18   67-20  195-18  133-20  119-20   37-25   \n",
              "7    11-20  ...   58-25   20-20  137-20   92-20   47-20   74-20  134-22   \n",
              "8   214-20  ...  221-20   66-21  174-19  180-20  228-21   45-16   98-20   \n",
              "9   124-20  ...  113-18   14-20   33-20  172-21   77-20   54-20    2-21   \n",
              "10  173-20  ...   64-20  127-21  103-21  104-18    4-20   80-19  131-21   \n",
              "11   70-20  ...   23-22  186-23  110-18  150-23  130-19  196-18   21-20   \n",
              "\n",
              "        21      22      23  \n",
              "0   210-18   30-20  201-20  \n",
              "1   141-20   48-18   28-20  \n",
              "2   188-20   24-20    8-20  \n",
              "3     7-20  111-20     NaN  \n",
              "4    51-20  107-20   60-20  \n",
              "5    109-5   91-23  117-20  \n",
              "6     6-25  194-17   93-20  \n",
              "7   114-22  209-25  199-25  \n",
              "8   149-20  112-18   41-20  \n",
              "9   123-21  167-15   15-19  \n",
              "10  146-23   78-20  219-20  \n",
              "11    5-20  187-22   10-21  \n",
              "\n",
              "[12 rows x 24 columns]"
            ]
          },
          "execution_count": 5,
          "metadata": {},
          "output_type": "execute_result"
        }
      ],
      "source": [
        "data_manual=pd.read_csv(f\"./data/crunch_manual.csv\",header=None)\n",
        "data_manual"
      ]
    },
    {
      "cell_type": "code",
      "execution_count": 6,
      "id": "79cdfd42",
      "metadata": {
        "gather": {
          "logged": 1722930004167
        }
      },
      "outputs": [],
      "source": [
        "data_manual=data_manual.fillna('na-na')"
      ]
    },
    {
      "cell_type": "code",
      "execution_count": 8,
      "id": "456d7eea-7f0d-42d4-9510-b66333bae4dc",
      "metadata": {
        "gather": {
          "logged": 1722930196006
        },
        "jupyter": {
          "outputs_hidden": false,
          "source_hidden": false
        },
        "nteract": {
          "transient": {
            "deleting": false
          }
        }
      },
      "outputs": [
        {
          "name": "stdout",
          "output_type": "stream",
          "text": [
            "Collecting openpyxl\n",
            "  Downloading openpyxl-3.1.5-py2.py3-none-any.whl (250 kB)\n",
            "\u001b[2K     \u001b[90m━━━━━━━━━━━━━━━━━━━━━━━━━━━━━━━━━━━━━━━\u001b[0m \u001b[32m250.9/250.9 kB\u001b[0m \u001b[31m1.1 MB/s\u001b[0m eta \u001b[36m0:00:00\u001b[0m00:01\u001b[0m00:01\u001b[0m\n",
            "\u001b[?25hCollecting et-xmlfile\n",
            "  Using cached et_xmlfile-1.1.0-py3-none-any.whl (4.7 kB)\n",
            "Installing collected packages: et-xmlfile, openpyxl\n",
            "Successfully installed et-xmlfile-1.1.0 openpyxl-3.1.5\n",
            "Note: you may need to restart the kernel to use updated packages.\n"
          ]
        }
      ],
      "source": [
        "pip install openpyxl"
      ]
    },
    {
      "cell_type": "code",
      "execution_count": 9,
      "id": "c756e3e7",
      "metadata": {
        "gather": {
          "logged": 1722930199294
        }
      },
      "outputs": [
        {
          "data": {
            "text/html": [
              "<div>\n",
              "<style scoped>\n",
              "    .dataframe tbody tr th:only-of-type {\n",
              "        vertical-align: middle;\n",
              "    }\n",
              "\n",
              "    .dataframe tbody tr th {\n",
              "        vertical-align: top;\n",
              "    }\n",
              "\n",
              "    .dataframe thead th {\n",
              "        text-align: right;\n",
              "    }\n",
              "</style>\n",
              "<table border=\"1\" class=\"dataframe\">\n",
              "  <thead>\n",
              "    <tr style=\"text-align: right;\">\n",
              "      <th></th>\n",
              "      <th>A1</th>\n",
              "      <th>A2</th>\n",
              "      <th>B1</th>\n",
              "      <th>B2</th>\n",
              "      <th>C1</th>\n",
              "      <th>C2</th>\n",
              "      <th>D1</th>\n",
              "      <th>D2</th>\n",
              "      <th>E1</th>\n",
              "      <th>E2</th>\n",
              "      <th>F1</th>\n",
              "      <th>F2</th>\n",
              "    </tr>\n",
              "  </thead>\n",
              "  <tbody>\n",
              "    <tr>\n",
              "      <th>0</th>\n",
              "      <td>82</td>\n",
              "      <td>24</td>\n",
              "      <td>14</td>\n",
              "      <td>12</td>\n",
              "      <td>231</td>\n",
              "      <td>105</td>\n",
              "      <td>168</td>\n",
              "      <td>46</td>\n",
              "      <td>167</td>\n",
              "      <td>44</td>\n",
              "      <td>30</td>\n",
              "      <td>112</td>\n",
              "    </tr>\n",
              "    <tr>\n",
              "      <th>1</th>\n",
              "      <td>184</td>\n",
              "      <td>148</td>\n",
              "      <td>175</td>\n",
              "      <td>34</td>\n",
              "      <td>17</td>\n",
              "      <td>45</td>\n",
              "      <td>158</td>\n",
              "      <td>238</td>\n",
              "      <td>84</td>\n",
              "      <td>89</td>\n",
              "      <td>201</td>\n",
              "      <td>202</td>\n",
              "    </tr>\n",
              "    <tr>\n",
              "      <th>2</th>\n",
              "      <td>125</td>\n",
              "      <td>120</td>\n",
              "      <td>128</td>\n",
              "      <td>2</td>\n",
              "      <td>137</td>\n",
              "      <td>195</td>\n",
              "      <td>116</td>\n",
              "      <td>127</td>\n",
              "      <td>174</td>\n",
              "      <td>205</td>\n",
              "      <td>48</td>\n",
              "      <td>221</td>\n",
              "    </tr>\n",
              "    <tr>\n",
              "      <th>3</th>\n",
              "      <td>27</td>\n",
              "      <td>72</td>\n",
              "      <td>154</td>\n",
              "      <td>123</td>\n",
              "      <td>68</td>\n",
              "      <td>138</td>\n",
              "      <td>165</td>\n",
              "      <td>186</td>\n",
              "      <td>178</td>\n",
              "      <td>126</td>\n",
              "      <td>8</td>\n",
              "      <td>75</td>\n",
              "    </tr>\n",
              "    <tr>\n",
              "      <th>4</th>\n",
              "      <td>155</td>\n",
              "      <td>166</td>\n",
              "      <td>98</td>\n",
              "      <td>79</td>\n",
              "      <td>80</td>\n",
              "      <td>64</td>\n",
              "      <td>149</td>\n",
              "      <td>110</td>\n",
              "      <td>200</td>\n",
              "      <td>100</td>\n",
              "      <td>47</td>\n",
              "      <td>164</td>\n",
              "    </tr>\n",
              "    <tr>\n",
              "      <th>5</th>\n",
              "      <td>77</td>\n",
              "      <td>153</td>\n",
              "      <td>135</td>\n",
              "      <td>113</td>\n",
              "      <td>4</td>\n",
              "      <td>33</td>\n",
              "      <td>180</td>\n",
              "      <td>196</td>\n",
              "      <td>228</td>\n",
              "      <td>16</td>\n",
              "      <td>122</td>\n",
              "      <td>171</td>\n",
              "    </tr>\n",
              "    <tr>\n",
              "      <th>6</th>\n",
              "      <td>219</td>\n",
              "      <td>28</td>\n",
              "      <td>172</td>\n",
              "      <td>59</td>\n",
              "      <td>236</td>\n",
              "      <td>143</td>\n",
              "      <td>204</td>\n",
              "      <td>21</td>\n",
              "      <td>40</td>\n",
              "      <td>76</td>\n",
              "      <td>86</td>\n",
              "      <td>211</td>\n",
              "    </tr>\n",
              "    <tr>\n",
              "      <th>7</th>\n",
              "      <td>50</td>\n",
              "      <td>139</td>\n",
              "      <td>163</td>\n",
              "      <td>70</td>\n",
              "      <td>111</td>\n",
              "      <td>53</td>\n",
              "      <td>234</td>\n",
              "      <td>187</td>\n",
              "      <td>176</td>\n",
              "      <td>159</td>\n",
              "      <td>31</td>\n",
              "      <td>133</td>\n",
              "    </tr>\n",
              "    <tr>\n",
              "      <th>8</th>\n",
              "      <td>151</td>\n",
              "      <td>62</td>\n",
              "      <td>220</td>\n",
              "      <td>13</td>\n",
              "      <td>193</td>\n",
              "      <td>101</td>\n",
              "      <td>222</td>\n",
              "      <td>10</td>\n",
              "      <td>194</td>\n",
              "      <td>51</td>\n",
              "      <td>42</td>\n",
              "      <td>170</td>\n",
              "    </tr>\n",
              "    <tr>\n",
              "      <th>9</th>\n",
              "      <td>237</td>\n",
              "      <td>206</td>\n",
              "      <td>95</td>\n",
              "      <td>218</td>\n",
              "      <td>140</td>\n",
              "      <td>117</td>\n",
              "      <td>150</td>\n",
              "      <td>102</td>\n",
              "      <td>7</td>\n",
              "      <td>18</td>\n",
              "      <td>115</td>\n",
              "      <td>152</td>\n",
              "    </tr>\n",
              "    <tr>\n",
              "      <th>10</th>\n",
              "      <td>55</td>\n",
              "      <td>185</td>\n",
              "      <td>99</td>\n",
              "      <td>144</td>\n",
              "      <td>26</td>\n",
              "      <td>61</td>\n",
              "      <td>23</td>\n",
              "      <td>109</td>\n",
              "      <td>208</td>\n",
              "      <td>35</td>\n",
              "      <td>93</td>\n",
              "      <td>182</td>\n",
              "    </tr>\n",
              "    <tr>\n",
              "      <th>11</th>\n",
              "      <td>67</td>\n",
              "      <td>188</td>\n",
              "      <td>56</td>\n",
              "      <td>1</td>\n",
              "      <td>177</td>\n",
              "      <td>19</td>\n",
              "      <td>15</td>\n",
              "      <td>94</td>\n",
              "      <td>198</td>\n",
              "      <td>107</td>\n",
              "      <td>225</td>\n",
              "      <td>81</td>\n",
              "    </tr>\n",
              "    <tr>\n",
              "      <th>12</th>\n",
              "      <td>83</td>\n",
              "      <td>37</td>\n",
              "      <td>3</td>\n",
              "      <td>118</td>\n",
              "      <td>36</td>\n",
              "      <td>74</td>\n",
              "      <td>203</td>\n",
              "      <td>119</td>\n",
              "      <td>65</td>\n",
              "      <td>60</td>\n",
              "      <td>78</td>\n",
              "      <td>223</td>\n",
              "    </tr>\n",
              "    <tr>\n",
              "      <th>13</th>\n",
              "      <td>192</td>\n",
              "      <td>49</td>\n",
              "      <td>141</td>\n",
              "      <td>58</td>\n",
              "      <td>91</td>\n",
              "      <td>136</td>\n",
              "      <td>134</td>\n",
              "      <td>199</td>\n",
              "      <td>96</td>\n",
              "      <td>232</td>\n",
              "      <td>32</td>\n",
              "      <td>213</td>\n",
              "    </tr>\n",
              "    <tr>\n",
              "      <th>14</th>\n",
              "      <td>233</td>\n",
              "      <td>66</td>\n",
              "      <td>11</td>\n",
              "      <td>157</td>\n",
              "      <td>38</td>\n",
              "      <td>173</td>\n",
              "      <td>43</td>\n",
              "      <td>191</td>\n",
              "      <td>181</td>\n",
              "      <td>71</td>\n",
              "      <td>73</td>\n",
              "      <td>212</td>\n",
              "    </tr>\n",
              "    <tr>\n",
              "      <th>15</th>\n",
              "      <td>235</td>\n",
              "      <td>124</td>\n",
              "      <td>121</td>\n",
              "      <td>207</td>\n",
              "      <td>108</td>\n",
              "      <td>6</td>\n",
              "      <td>20</td>\n",
              "      <td>227</td>\n",
              "      <td>57</td>\n",
              "      <td>183</td>\n",
              "      <td>5</td>\n",
              "      <td>129</td>\n",
              "    </tr>\n",
              "    <tr>\n",
              "      <th>16</th>\n",
              "      <td>132</td>\n",
              "      <td>217</td>\n",
              "      <td>147</td>\n",
              "      <td>39</td>\n",
              "      <td>161</td>\n",
              "      <td>52</td>\n",
              "      <td>190</td>\n",
              "      <td>216</td>\n",
              "      <td>224</td>\n",
              "      <td>97</td>\n",
              "      <td>85</td>\n",
              "      <td>240</td>\n",
              "    </tr>\n",
              "    <tr>\n",
              "      <th>17</th>\n",
              "      <td>229</td>\n",
              "      <td>169</td>\n",
              "      <td>9</td>\n",
              "      <td>146</td>\n",
              "      <td>25</td>\n",
              "      <td>88</td>\n",
              "      <td>209</td>\n",
              "      <td>210</td>\n",
              "      <td>142</td>\n",
              "      <td>214</td>\n",
              "      <td>54</td>\n",
              "      <td>106</td>\n",
              "    </tr>\n",
              "    <tr>\n",
              "      <th>18</th>\n",
              "      <td>239</td>\n",
              "      <td>156</td>\n",
              "      <td>189</td>\n",
              "      <td>63</td>\n",
              "      <td>103</td>\n",
              "      <td>130</td>\n",
              "      <td>92</td>\n",
              "      <td>90</td>\n",
              "      <td>29</td>\n",
              "      <td>160</td>\n",
              "      <td>131</td>\n",
              "      <td>197</td>\n",
              "    </tr>\n",
              "    <tr>\n",
              "      <th>19</th>\n",
              "      <td>69</td>\n",
              "      <td>162</td>\n",
              "      <td>215</td>\n",
              "      <td>22</td>\n",
              "      <td>104</td>\n",
              "      <td>87</td>\n",
              "      <td>114</td>\n",
              "      <td>145</td>\n",
              "      <td>179</td>\n",
              "      <td>226</td>\n",
              "      <td>230</td>\n",
              "      <td>41</td>\n",
              "    </tr>\n",
              "  </tbody>\n",
              "</table>\n",
              "</div>"
            ],
            "text/plain": [
              "     A1   A2   B1   B2   C1   C2   D1   D2   E1   E2   F1   F2\n",
              "0    82   24   14   12  231  105  168   46  167   44   30  112\n",
              "1   184  148  175   34   17   45  158  238   84   89  201  202\n",
              "2   125  120  128    2  137  195  116  127  174  205   48  221\n",
              "3    27   72  154  123   68  138  165  186  178  126    8   75\n",
              "4   155  166   98   79   80   64  149  110  200  100   47  164\n",
              "5    77  153  135  113    4   33  180  196  228   16  122  171\n",
              "6   219   28  172   59  236  143  204   21   40   76   86  211\n",
              "7    50  139  163   70  111   53  234  187  176  159   31  133\n",
              "8   151   62  220   13  193  101  222   10  194   51   42  170\n",
              "9   237  206   95  218  140  117  150  102    7   18  115  152\n",
              "10   55  185   99  144   26   61   23  109  208   35   93  182\n",
              "11   67  188   56    1  177   19   15   94  198  107  225   81\n",
              "12   83   37    3  118   36   74  203  119   65   60   78  223\n",
              "13  192   49  141   58   91  136  134  199   96  232   32  213\n",
              "14  233   66   11  157   38  173   43  191  181   71   73  212\n",
              "15  235  124  121  207  108    6   20  227   57  183    5  129\n",
              "16  132  217  147   39  161   52  190  216  224   97   85  240\n",
              "17  229  169    9  146   25   88  209  210  142  214   54  106\n",
              "18  239  156  189   63  103  130   92   90   29  160  131  197\n",
              "19   69  162  215   22  104   87  114  145  179  226  230   41"
            ]
          },
          "execution_count": 9,
          "metadata": {},
          "output_type": "execute_result"
        }
      ],
      "source": [
        "manual_number=pd.read_excel(f\"./data/manual_number.xlsx\",sheet_name='Sheet1')\n",
        "manual_number"
      ]
    },
    {
      "cell_type": "code",
      "execution_count": 12,
      "id": "41df79a7",
      "metadata": {
        "gather": {
          "logged": 1722930271100
        }
      },
      "outputs": [],
      "source": [
        "manual_number=pd.melt(manual_number)\n",
        "manual_number.columns=['group','number']"
      ]
    },
    {
      "cell_type": "code",
      "execution_count": 13,
      "id": "b26fc26a",
      "metadata": {
        "gather": {
          "logged": 1722930280151
        }
      },
      "outputs": [
        {
          "data": {
            "text/html": [
              "<div>\n",
              "<style scoped>\n",
              "    .dataframe tbody tr th:only-of-type {\n",
              "        vertical-align: middle;\n",
              "    }\n",
              "\n",
              "    .dataframe tbody tr th {\n",
              "        vertical-align: top;\n",
              "    }\n",
              "\n",
              "    .dataframe thead th {\n",
              "        text-align: right;\n",
              "    }\n",
              "</style>\n",
              "<table border=\"1\" class=\"dataframe\">\n",
              "  <thead>\n",
              "    <tr style=\"text-align: right;\">\n",
              "      <th></th>\n",
              "      <th>group</th>\n",
              "      <th>number</th>\n",
              "    </tr>\n",
              "  </thead>\n",
              "  <tbody>\n",
              "    <tr>\n",
              "      <th>0</th>\n",
              "      <td>A1</td>\n",
              "      <td>82</td>\n",
              "    </tr>\n",
              "    <tr>\n",
              "      <th>1</th>\n",
              "      <td>A1</td>\n",
              "      <td>184</td>\n",
              "    </tr>\n",
              "    <tr>\n",
              "      <th>2</th>\n",
              "      <td>A1</td>\n",
              "      <td>125</td>\n",
              "    </tr>\n",
              "    <tr>\n",
              "      <th>3</th>\n",
              "      <td>A1</td>\n",
              "      <td>27</td>\n",
              "    </tr>\n",
              "    <tr>\n",
              "      <th>4</th>\n",
              "      <td>A1</td>\n",
              "      <td>155</td>\n",
              "    </tr>\n",
              "    <tr>\n",
              "      <th>...</th>\n",
              "      <td>...</td>\n",
              "      <td>...</td>\n",
              "    </tr>\n",
              "    <tr>\n",
              "      <th>235</th>\n",
              "      <td>F2</td>\n",
              "      <td>129</td>\n",
              "    </tr>\n",
              "    <tr>\n",
              "      <th>236</th>\n",
              "      <td>F2</td>\n",
              "      <td>240</td>\n",
              "    </tr>\n",
              "    <tr>\n",
              "      <th>237</th>\n",
              "      <td>F2</td>\n",
              "      <td>106</td>\n",
              "    </tr>\n",
              "    <tr>\n",
              "      <th>238</th>\n",
              "      <td>F2</td>\n",
              "      <td>197</td>\n",
              "    </tr>\n",
              "    <tr>\n",
              "      <th>239</th>\n",
              "      <td>F2</td>\n",
              "      <td>41</td>\n",
              "    </tr>\n",
              "  </tbody>\n",
              "</table>\n",
              "<p>240 rows × 2 columns</p>\n",
              "</div>"
            ],
            "text/plain": [
              "    group  number\n",
              "0      A1      82\n",
              "1      A1     184\n",
              "2      A1     125\n",
              "3      A1      27\n",
              "4      A1     155\n",
              "..    ...     ...\n",
              "235    F2     129\n",
              "236    F2     240\n",
              "237    F2     106\n",
              "238    F2     197\n",
              "239    F2      41\n",
              "\n",
              "[240 rows x 2 columns]"
            ]
          },
          "execution_count": 13,
          "metadata": {},
          "output_type": "execute_result"
        }
      ],
      "source": [
        "manual_number"
      ]
    },
    {
      "cell_type": "code",
      "execution_count": 14,
      "id": "33b0847c",
      "metadata": {
        "gather": {
          "logged": 1722931651023
        }
      },
      "outputs": [],
      "source": [
        "df_list=[]\n",
        "for index, row in data_manual.iterrows():\n",
        "    df=pd.DataFrame(row[4:].str.split('-').to_list())\n",
        "    df.columns=['number','crunch']\n",
        "    df['time']=[row[1]]*df.shape[0]\n",
        "    df['tester']=[row[2]]*df.shape[0]\n",
        "    df['date']=[row[0]]*df.shape[0]\n",
        "    df_list.append(df)\n",
        "final_df=pd.concat(df_list)\n",
        "        #print(number,crunch)"
      ]
    },
    {
      "cell_type": "code",
      "execution_count": 15,
      "id": "c9bcc4b4-5468-4de1-81a7-6a9d82e0a3fa",
      "metadata": {
        "gather": {
          "logged": 1722931711138
        },
        "jupyter": {
          "outputs_hidden": false,
          "source_hidden": false
        },
        "nteract": {
          "transient": {
            "deleting": false
          }
        }
      },
      "outputs": [
        {
          "data": {
            "text/html": [
              "<div>\n",
              "<style scoped>\n",
              "    .dataframe tbody tr th:only-of-type {\n",
              "        vertical-align: middle;\n",
              "    }\n",
              "\n",
              "    .dataframe tbody tr th {\n",
              "        vertical-align: top;\n",
              "    }\n",
              "\n",
              "    .dataframe thead th {\n",
              "        text-align: right;\n",
              "    }\n",
              "</style>\n",
              "<table border=\"1\" class=\"dataframe\">\n",
              "  <thead>\n",
              "    <tr style=\"text-align: right;\">\n",
              "      <th></th>\n",
              "      <th>number</th>\n",
              "      <th>crunch</th>\n",
              "      <th>time</th>\n",
              "      <th>tester</th>\n",
              "      <th>date</th>\n",
              "    </tr>\n",
              "  </thead>\n",
              "  <tbody>\n",
              "    <tr>\n",
              "      <th>0</th>\n",
              "      <td>73</td>\n",
              "      <td>24</td>\n",
              "      <td>13:22</td>\n",
              "      <td>A</td>\n",
              "      <td>2024-06-21</td>\n",
              "    </tr>\n",
              "    <tr>\n",
              "      <th>1</th>\n",
              "      <td>39</td>\n",
              "      <td>25</td>\n",
              "      <td>13:22</td>\n",
              "      <td>A</td>\n",
              "      <td>2024-06-21</td>\n",
              "    </tr>\n",
              "    <tr>\n",
              "      <th>2</th>\n",
              "      <td>90</td>\n",
              "      <td>22</td>\n",
              "      <td>13:22</td>\n",
              "      <td>A</td>\n",
              "      <td>2024-06-21</td>\n",
              "    </tr>\n",
              "    <tr>\n",
              "      <th>3</th>\n",
              "      <td>68</td>\n",
              "      <td>24</td>\n",
              "      <td>13:22</td>\n",
              "      <td>A</td>\n",
              "      <td>2024-06-21</td>\n",
              "    </tr>\n",
              "    <tr>\n",
              "      <th>4</th>\n",
              "      <td>165</td>\n",
              "      <td>20</td>\n",
              "      <td>13:22</td>\n",
              "      <td>A</td>\n",
              "      <td>2024-06-21</td>\n",
              "    </tr>\n",
              "    <tr>\n",
              "      <th>...</th>\n",
              "      <td>...</td>\n",
              "      <td>...</td>\n",
              "      <td>...</td>\n",
              "      <td>...</td>\n",
              "      <td>...</td>\n",
              "    </tr>\n",
              "    <tr>\n",
              "      <th>15</th>\n",
              "      <td>196</td>\n",
              "      <td>18</td>\n",
              "      <td>14:26</td>\n",
              "      <td>戈东</td>\n",
              "      <td>2024-06-21</td>\n",
              "    </tr>\n",
              "    <tr>\n",
              "      <th>16</th>\n",
              "      <td>21</td>\n",
              "      <td>20</td>\n",
              "      <td>14:26</td>\n",
              "      <td>戈东</td>\n",
              "      <td>2024-06-21</td>\n",
              "    </tr>\n",
              "    <tr>\n",
              "      <th>17</th>\n",
              "      <td>5</td>\n",
              "      <td>20</td>\n",
              "      <td>14:26</td>\n",
              "      <td>戈东</td>\n",
              "      <td>2024-06-21</td>\n",
              "    </tr>\n",
              "    <tr>\n",
              "      <th>18</th>\n",
              "      <td>187</td>\n",
              "      <td>22</td>\n",
              "      <td>14:26</td>\n",
              "      <td>戈东</td>\n",
              "      <td>2024-06-21</td>\n",
              "    </tr>\n",
              "    <tr>\n",
              "      <th>19</th>\n",
              "      <td>10</td>\n",
              "      <td>21</td>\n",
              "      <td>14:26</td>\n",
              "      <td>戈东</td>\n",
              "      <td>2024-06-21</td>\n",
              "    </tr>\n",
              "  </tbody>\n",
              "</table>\n",
              "<p>240 rows × 5 columns</p>\n",
              "</div>"
            ],
            "text/plain": [
              "   number crunch   time tester        date\n",
              "0      73     24  13:22      A  2024-06-21\n",
              "1      39     25  13:22      A  2024-06-21\n",
              "2      90     22  13:22      A  2024-06-21\n",
              "3      68     24  13:22      A  2024-06-21\n",
              "4     165     20  13:22      A  2024-06-21\n",
              "..    ...    ...    ...    ...         ...\n",
              "15    196     18  14:26     戈东  2024-06-21\n",
              "16     21     20  14:26     戈东  2024-06-21\n",
              "17      5     20  14:26     戈东  2024-06-21\n",
              "18    187     22  14:26     戈东  2024-06-21\n",
              "19     10     21  14:26     戈东  2024-06-21\n",
              "\n",
              "[240 rows x 5 columns]"
            ]
          },
          "execution_count": 15,
          "metadata": {},
          "output_type": "execute_result"
        }
      ],
      "source": [
        "final_df"
      ]
    },
    {
      "cell_type": "code",
      "execution_count": 16,
      "id": "26dabba9",
      "metadata": {
        "gather": {
          "logged": 1722932692128
        }
      },
      "outputs": [],
      "source": [
        "final_df['number']=final_df['number'].str.replace('na','-999')"
      ]
    },
    {
      "cell_type": "code",
      "execution_count": 17,
      "id": "615b87f5",
      "metadata": {
        "gather": {
          "logged": 1722932704166
        }
      },
      "outputs": [],
      "source": [
        "final_df['number']=final_df['number'].astype(int)"
      ]
    },
    {
      "cell_type": "code",
      "execution_count": 18,
      "id": "86d53f23",
      "metadata": {
        "gather": {
          "logged": 1722932704332
        }
      },
      "outputs": [],
      "source": [
        "final_df=pd.merge(final_df,manual_number,on=['number'],how='left')"
      ]
    },
    {
      "cell_type": "code",
      "execution_count": 19,
      "id": "5f091411-af3a-4f0c-a2d0-4b57745b0df6",
      "metadata": {
        "gather": {
          "logged": 1722932725355
        },
        "jupyter": {
          "outputs_hidden": false,
          "source_hidden": false
        },
        "nteract": {
          "transient": {
            "deleting": false
          }
        }
      },
      "outputs": [
        {
          "data": {
            "text/html": [
              "<div>\n",
              "<style scoped>\n",
              "    .dataframe tbody tr th:only-of-type {\n",
              "        vertical-align: middle;\n",
              "    }\n",
              "\n",
              "    .dataframe tbody tr th {\n",
              "        vertical-align: top;\n",
              "    }\n",
              "\n",
              "    .dataframe thead th {\n",
              "        text-align: right;\n",
              "    }\n",
              "</style>\n",
              "<table border=\"1\" class=\"dataframe\">\n",
              "  <thead>\n",
              "    <tr style=\"text-align: right;\">\n",
              "      <th></th>\n",
              "      <th>number</th>\n",
              "      <th>crunch</th>\n",
              "      <th>time</th>\n",
              "      <th>tester</th>\n",
              "      <th>date</th>\n",
              "      <th>group</th>\n",
              "    </tr>\n",
              "  </thead>\n",
              "  <tbody>\n",
              "    <tr>\n",
              "      <th>0</th>\n",
              "      <td>73</td>\n",
              "      <td>24</td>\n",
              "      <td>13:22</td>\n",
              "      <td>A</td>\n",
              "      <td>2024-06-21</td>\n",
              "      <td>F1</td>\n",
              "    </tr>\n",
              "    <tr>\n",
              "      <th>1</th>\n",
              "      <td>39</td>\n",
              "      <td>25</td>\n",
              "      <td>13:22</td>\n",
              "      <td>A</td>\n",
              "      <td>2024-06-21</td>\n",
              "      <td>B2</td>\n",
              "    </tr>\n",
              "    <tr>\n",
              "      <th>2</th>\n",
              "      <td>90</td>\n",
              "      <td>22</td>\n",
              "      <td>13:22</td>\n",
              "      <td>A</td>\n",
              "      <td>2024-06-21</td>\n",
              "      <td>D2</td>\n",
              "    </tr>\n",
              "    <tr>\n",
              "      <th>3</th>\n",
              "      <td>68</td>\n",
              "      <td>24</td>\n",
              "      <td>13:22</td>\n",
              "      <td>A</td>\n",
              "      <td>2024-06-21</td>\n",
              "      <td>C1</td>\n",
              "    </tr>\n",
              "    <tr>\n",
              "      <th>4</th>\n",
              "      <td>165</td>\n",
              "      <td>20</td>\n",
              "      <td>13:22</td>\n",
              "      <td>A</td>\n",
              "      <td>2024-06-21</td>\n",
              "      <td>D1</td>\n",
              "    </tr>\n",
              "    <tr>\n",
              "      <th>...</th>\n",
              "      <td>...</td>\n",
              "      <td>...</td>\n",
              "      <td>...</td>\n",
              "      <td>...</td>\n",
              "      <td>...</td>\n",
              "      <td>...</td>\n",
              "    </tr>\n",
              "    <tr>\n",
              "      <th>235</th>\n",
              "      <td>196</td>\n",
              "      <td>18</td>\n",
              "      <td>14:26</td>\n",
              "      <td>戈东</td>\n",
              "      <td>2024-06-21</td>\n",
              "      <td>D2</td>\n",
              "    </tr>\n",
              "    <tr>\n",
              "      <th>236</th>\n",
              "      <td>21</td>\n",
              "      <td>20</td>\n",
              "      <td>14:26</td>\n",
              "      <td>戈东</td>\n",
              "      <td>2024-06-21</td>\n",
              "      <td>D2</td>\n",
              "    </tr>\n",
              "    <tr>\n",
              "      <th>237</th>\n",
              "      <td>5</td>\n",
              "      <td>20</td>\n",
              "      <td>14:26</td>\n",
              "      <td>戈东</td>\n",
              "      <td>2024-06-21</td>\n",
              "      <td>F1</td>\n",
              "    </tr>\n",
              "    <tr>\n",
              "      <th>238</th>\n",
              "      <td>187</td>\n",
              "      <td>22</td>\n",
              "      <td>14:26</td>\n",
              "      <td>戈东</td>\n",
              "      <td>2024-06-21</td>\n",
              "      <td>D2</td>\n",
              "    </tr>\n",
              "    <tr>\n",
              "      <th>239</th>\n",
              "      <td>10</td>\n",
              "      <td>21</td>\n",
              "      <td>14:26</td>\n",
              "      <td>戈东</td>\n",
              "      <td>2024-06-21</td>\n",
              "      <td>D2</td>\n",
              "    </tr>\n",
              "  </tbody>\n",
              "</table>\n",
              "<p>240 rows × 6 columns</p>\n",
              "</div>"
            ],
            "text/plain": [
              "     number crunch   time tester        date group\n",
              "0        73     24  13:22      A  2024-06-21    F1\n",
              "1        39     25  13:22      A  2024-06-21    B2\n",
              "2        90     22  13:22      A  2024-06-21    D2\n",
              "3        68     24  13:22      A  2024-06-21    C1\n",
              "4       165     20  13:22      A  2024-06-21    D1\n",
              "..      ...    ...    ...    ...         ...   ...\n",
              "235     196     18  14:26     戈东  2024-06-21    D2\n",
              "236      21     20  14:26     戈东  2024-06-21    D2\n",
              "237       5     20  14:26     戈东  2024-06-21    F1\n",
              "238     187     22  14:26     戈东  2024-06-21    D2\n",
              "239      10     21  14:26     戈东  2024-06-21    D2\n",
              "\n",
              "[240 rows x 6 columns]"
            ]
          },
          "execution_count": 19,
          "metadata": {},
          "output_type": "execute_result"
        }
      ],
      "source": [
        "final_df"
      ]
    },
    {
      "cell_type": "code",
      "execution_count": 20,
      "id": "7455eaf2",
      "metadata": {
        "gather": {
          "logged": 1722932785160
        }
      },
      "outputs": [],
      "source": [
        "final_df['crunch']=final_df['crunch'].str.replace('na','25')\n",
        "final_df['crunch']=final_df['crunch'].fillna(25)\n",
        "final_df['crunch']=final_df['crunch'].astype(int)"
      ]
    },
    {
      "cell_type": "code",
      "execution_count": 24,
      "id": "f8c94a11-a09f-48ae-beaf-c3c96a1042f8",
      "metadata": {
        "gather": {
          "logged": 1722932902140
        },
        "jupyter": {
          "outputs_hidden": false,
          "source_hidden": false
        },
        "nteract": {
          "transient": {
            "deleting": false
          }
        }
      },
      "outputs": [
        {
          "data": {
            "text/plain": [
              "ShapiroResult(statistic=0.7618815302848816, pvalue=2.3600680899589864e-18)"
            ]
          },
          "execution_count": 24,
          "metadata": {},
          "output_type": "execute_result"
        }
      ],
      "source": [
        "stats.shapiro(final_df['crunch'])"
      ]
    },
    {
      "cell_type": "code",
      "execution_count": 27,
      "id": "50745620",
      "metadata": {
        "gather": {
          "logged": 1722933154180
        }
      },
      "outputs": [
        {
          "name": "stdout",
          "output_type": "stream",
          "text": [
            "Statistics=0.762, p=0.000\n",
            "样本看起来不服从正态分布（拒绝原假设）\n"
          ]
        }
      ],
      "source": [
        "from scipy import stats\n",
        "\n",
        "\n",
        "stat, p = stats.shapiro(final_df['crunch'])\n",
        "print('Statistics=%.3f, p=%.3f' % (stat, p))\n",
        "alpha = 0.05\n",
        "if p > alpha:\n",
        "    print('样本看起来服从正态分布（无法拒绝原假设）')\n",
        "else:\n",
        "    print('样本看起来不服从正态分布（拒绝原假设）')"
      ]
    },
    {
      "cell_type": "markdown",
      "id": "b155e3dc-3be8-4b4b-a714-a01f3529ab1b",
      "metadata": {
        "nteract": {
          "transient": {
            "deleting": false
          }
        }
      },
      "source": [
        "- **<mark>P值过小，拒绝原假设，本数据是不符合正态分布的假设</mark>**"
      ]
    },
    {
      "cell_type": "code",
      "execution_count": 77,
      "id": "d0ea4ed9",
      "metadata": {},
      "outputs": [],
      "source": [
        "data=pd.read_excel(r'C:\\Users\\tod.chengzhang.xu\\Desktop\\raw_data_mars_crunch.xlsx',sheet_name='raw_data_mars_crunch')\n",
        "crunch_value=data.iloc[:,5:-1].values.reshape(1,-1)"
      ]
    },
    {
      "cell_type": "code",
      "execution_count": 78,
      "id": "0d0bf29c",
      "metadata": {},
      "outputs": [
        {
          "data": {
            "text/plain": [
              "21.725"
            ]
          },
          "execution_count": 78,
          "metadata": {},
          "output_type": "execute_result"
        }
      ],
      "source": [
        "(20.55+22.9)/2"
      ]
    },
    {
      "cell_type": "code",
      "execution_count": 79,
      "id": "b4d57970",
      "metadata": {},
      "outputs": [
        {
          "data": {
            "text/plain": [
              "<matplotlib.legend.Legend at 0x1967f7b2790>"
            ]
          },
          "execution_count": 79,
          "metadata": {},
          "output_type": "execute_result"
        },
        {
          "data": {
            "image/png": "[encoded data removed]",
            "text/plain": [
              "<Figure size 432x288 with 1 Axes>"
            ]
          },
          "metadata": {
            "needs_background": "light"
          },
          "output_type": "display_data"
        }
      ],
      "source": [
        "sns.distplot(crunch_value[0],label='previous')\n",
        "sns.distplot(final_df['crunch'],label='current')\n",
        "import matplotlib.pyplot as plt\n",
        "plt.legend()"
      ]
    },
    {
      "cell_type": "code",
      "execution_count": 80,
      "id": "e2c5259c",
      "metadata": {},
      "outputs": [
        {
          "data": {
            "text/plain": [
              "count    240.000000\n",
              "mean      20.554167\n",
              "std        2.254977\n",
              "min        5.000000\n",
              "25%       20.000000\n",
              "50%       20.000000\n",
              "75%       21.000000\n",
              "max       25.000000\n",
              "Name: crunch, dtype: float64"
            ]
          },
          "execution_count": 80,
          "metadata": {},
          "output_type": "execute_result"
        }
      ],
      "source": [
        "final_df['crunch'].describe()"
      ]
    },
    {
      "cell_type": "code",
      "execution_count": 81,
      "id": "fb8d93a6",
      "metadata": {},
      "outputs": [],
      "source": [
        "box_plot_df=final_df.loc[final_df['crunch']>15,:]"
      ]
    },
    {
      "cell_type": "code",
      "execution_count": null,
      "id": "962330c7",
      "metadata": {},
      "outputs": [],
      "source": []
    },
    {
      "cell_type": "code",
      "execution_count": 82,
      "id": "fda4bf43",
      "metadata": {},
      "outputs": [
        {
          "data": {
            "text/plain": [
              "<AxesSubplot:xlabel='group', ylabel='crunch'>"
            ]
          },
          "execution_count": 82,
          "metadata": {},
          "output_type": "execute_result"
        },
        {
          "data": {
            "image/png": "[encoded data removed]",
            "text/plain": [
              "<Figure size 432x288 with 1 Axes>"
            ]
          },
          "metadata": {
            "needs_background": "light"
          },
          "output_type": "display_data"
        }
      ],
      "source": [
        "sns.boxplot(data=box_plot_df,y='crunch',x='group', order=['A1','A2', 'B1','B2', 'C1','C2','D1','D2','E1','E2','F1','F2'])"
      ]
    },
    {
      "cell_type": "code",
      "execution_count": 83,
      "id": "8e2656c7",
      "metadata": {},
      "outputs": [],
      "source": [
        "data_machine=pd.read_excel(r'./crunch_machine.xlsx')\n",
        "data_machine=data_machine.loc[data_machine['Batch'].isin(['A1-','A2-','B1-','B2-','C1-','C2-',\n",
        "                                                          'D1-','D2-','E1-','E2-','F1-','F2-']),:]\n",
        "data_machine=data_machine.loc[~data_machine['Test ID'].str.contains('Start|End'),:]\n",
        "data_machine=data_machine.drop([ 'Unnamed: 2'],axis=1)"
      ]
    },
    {
      "cell_type": "code",
      "execution_count": 84,
      "id": "ea696a94",
      "metadata": {},
      "outputs": [],
      "source": [
        "data_machine['Batch']=data_machine['Batch'].str.replace('-','')"
      ]
    },
    {
      "cell_type": "code",
      "execution_count": 85,
      "id": "b289c61f",
      "metadata": {},
      "outputs": [
        {
          "data": {
            "text/plain": [
              "<AxesSubplot:xlabel='Batch', ylabel='MAX db'>"
            ]
          },
          "execution_count": 85,
          "metadata": {},
          "output_type": "execute_result"
        },
        {
          "data": {
            "image/png": "[encoded data removed]",
            "text/plain": [
              "<Figure size 432x288 with 1 Axes>"
            ]
          },
          "metadata": {
            "needs_background": "light"
          },
          "output_type": "display_data"
        }
      ],
      "source": [
        "sns.boxplot(data=data_machine,y='MAX db',x='Batch', order=['A1','A2', 'B1','B2', 'C1','C2','D1','D2','E1','E2','F1','F2'])"
      ]
    },
    {
      "cell_type": "code",
      "execution_count": 86,
      "id": "4cbc00d5",
      "metadata": {},
      "outputs": [
        {
          "data": {
            "text/plain": [
              "<AxesSubplot:xlabel='Batch', ylabel='Linear Distance AED: Acoustic Module-T 1:2'>"
            ]
          },
          "execution_count": 86,
          "metadata": {},
          "output_type": "execute_result"
        },
        {
          "data": {
            "image/png": "[encoded data removed]",
            "text/plain": [
              "<Figure size 432x288 with 1 Axes>"
            ]
          },
          "metadata": {
            "needs_background": "light"
          },
          "output_type": "display_data"
        }
      ],
      "source": [
        "sns.boxplot(data=data_machine,y='Linear Distance AED: Acoustic Module-T 1:2',x='Batch', \n",
        "            order=['A1','A2', 'B1','B2', 'C1','C2','D1','D2','E1','E2','F1','F2'])"
      ]
    },
    {
      "cell_type": "code",
      "execution_count": 87,
      "id": "7ca95d6f",
      "metadata": {},
      "outputs": [],
      "source": [
        "break_distance=data_machine.loc[data_machine['破裂距离']<1,:]"
      ]
    },
    {
      "cell_type": "code",
      "execution_count": 88,
      "id": "55517455",
      "metadata": {},
      "outputs": [
        {
          "data": {
            "text/plain": [
              "<AxesSubplot:xlabel='Batch', ylabel='破裂距离'>"
            ]
          },
          "execution_count": 88,
          "metadata": {},
          "output_type": "execute_result"
        },
        {
          "data": {
            "image/png": "[encoded data removed]",
            "text/plain": [
              "<Figure size 432x288 with 1 Axes>"
            ]
          },
          "metadata": {
            "needs_background": "light"
          },
          "output_type": "display_data"
        }
      ],
      "source": [
        "sns.boxplot(data=break_distance,y='破裂距离',x='Batch', \n",
        "            order=['A1','A2', 'B1','B2', 'C1','C2','D1','D2','E1','E2','F1','F2'])"
      ]
    },
    {
      "cell_type": "code",
      "execution_count": 89,
      "id": "99663674",
      "metadata": {},
      "outputs": [
        {
          "data": {
            "text/plain": [
              "<AxesSubplot:xlabel='Batch', ylabel='破裂力'>"
            ]
          },
          "execution_count": 89,
          "metadata": {},
          "output_type": "execute_result"
        },
        {
          "data": {
            "image/png": "[encoded data removed]",
            "text/plain": [
              "<Figure size 432x288 with 1 Axes>"
            ]
          },
          "metadata": {
            "needs_background": "light"
          },
          "output_type": "display_data"
        }
      ],
      "source": [
        "sns.boxplot(data=data_machine,y='破裂力',x='Batch', \n",
        "            order=['A1','A2', 'B1','B2', 'C1','C2','D1','D2','E1','E2','F1','F2'])"
      ]
    },
    {
      "cell_type": "code",
      "execution_count": 90,
      "id": "c19690c5",
      "metadata": {},
      "outputs": [
        {
          "data": {
            "text/html": [
              "<div>\n",
              "<style scoped>\n",
              "    .dataframe tbody tr th:only-of-type {\n",
              "        vertical-align: middle;\n",
              "    }\n",
              "\n",
              "    .dataframe tbody tr th {\n",
              "        vertical-align: top;\n",
              "    }\n",
              "\n",
              "    .dataframe thead th {\n",
              "        text-align: right;\n",
              "    }\n",
              "</style>\n",
              "<table border=\"1\" class=\"dataframe\">\n",
              "  <thead>\n",
              "    <tr style=\"text-align: right;\">\n",
              "      <th></th>\n",
              "      <th>number</th>\n",
              "      <th>crunch</th>\n",
              "      <th>time</th>\n",
              "      <th>tester</th>\n",
              "      <th>date</th>\n",
              "      <th>group</th>\n",
              "    </tr>\n",
              "  </thead>\n",
              "  <tbody>\n",
              "    <tr>\n",
              "      <th>0</th>\n",
              "      <td>73</td>\n",
              "      <td>24</td>\n",
              "      <td>13:22</td>\n",
              "      <td>A</td>\n",
              "      <td>2024-06-21</td>\n",
              "      <td>F1</td>\n",
              "    </tr>\n",
              "    <tr>\n",
              "      <th>1</th>\n",
              "      <td>39</td>\n",
              "      <td>25</td>\n",
              "      <td>13:22</td>\n",
              "      <td>A</td>\n",
              "      <td>2024-06-21</td>\n",
              "      <td>B2</td>\n",
              "    </tr>\n",
              "    <tr>\n",
              "      <th>2</th>\n",
              "      <td>90</td>\n",
              "      <td>22</td>\n",
              "      <td>13:22</td>\n",
              "      <td>A</td>\n",
              "      <td>2024-06-21</td>\n",
              "      <td>D2</td>\n",
              "    </tr>\n",
              "    <tr>\n",
              "      <th>3</th>\n",
              "      <td>68</td>\n",
              "      <td>24</td>\n",
              "      <td>13:22</td>\n",
              "      <td>A</td>\n",
              "      <td>2024-06-21</td>\n",
              "      <td>C1</td>\n",
              "    </tr>\n",
              "    <tr>\n",
              "      <th>4</th>\n",
              "      <td>165</td>\n",
              "      <td>20</td>\n",
              "      <td>13:22</td>\n",
              "      <td>A</td>\n",
              "      <td>2024-06-21</td>\n",
              "      <td>D1</td>\n",
              "    </tr>\n",
              "    <tr>\n",
              "      <th>...</th>\n",
              "      <td>...</td>\n",
              "      <td>...</td>\n",
              "      <td>...</td>\n",
              "      <td>...</td>\n",
              "      <td>...</td>\n",
              "      <td>...</td>\n",
              "    </tr>\n",
              "    <tr>\n",
              "      <th>235</th>\n",
              "      <td>196</td>\n",
              "      <td>18</td>\n",
              "      <td>14:26</td>\n",
              "      <td>戈东</td>\n",
              "      <td>2024-06-21</td>\n",
              "      <td>D2</td>\n",
              "    </tr>\n",
              "    <tr>\n",
              "      <th>236</th>\n",
              "      <td>21</td>\n",
              "      <td>20</td>\n",
              "      <td>14:26</td>\n",
              "      <td>戈东</td>\n",
              "      <td>2024-06-21</td>\n",
              "      <td>D2</td>\n",
              "    </tr>\n",
              "    <tr>\n",
              "      <th>237</th>\n",
              "      <td>5</td>\n",
              "      <td>20</td>\n",
              "      <td>14:26</td>\n",
              "      <td>戈东</td>\n",
              "      <td>2024-06-21</td>\n",
              "      <td>F1</td>\n",
              "    </tr>\n",
              "    <tr>\n",
              "      <th>238</th>\n",
              "      <td>187</td>\n",
              "      <td>22</td>\n",
              "      <td>14:26</td>\n",
              "      <td>戈东</td>\n",
              "      <td>2024-06-21</td>\n",
              "      <td>D2</td>\n",
              "    </tr>\n",
              "    <tr>\n",
              "      <th>239</th>\n",
              "      <td>10</td>\n",
              "      <td>21</td>\n",
              "      <td>14:26</td>\n",
              "      <td>戈东</td>\n",
              "      <td>2024-06-21</td>\n",
              "      <td>D2</td>\n",
              "    </tr>\n",
              "  </tbody>\n",
              "</table>\n",
              "<p>240 rows × 6 columns</p>\n",
              "</div>"
            ],
            "text/plain": [
              "     number  crunch   time tester        date group\n",
              "0        73      24  13:22      A  2024-06-21    F1\n",
              "1        39      25  13:22      A  2024-06-21    B2\n",
              "2        90      22  13:22      A  2024-06-21    D2\n",
              "3        68      24  13:22      A  2024-06-21    C1\n",
              "4       165      20  13:22      A  2024-06-21    D1\n",
              "..      ...     ...    ...    ...         ...   ...\n",
              "235     196      18  14:26     戈东  2024-06-21    D2\n",
              "236      21      20  14:26     戈东  2024-06-21    D2\n",
              "237       5      20  14:26     戈东  2024-06-21    F1\n",
              "238     187      22  14:26     戈东  2024-06-21    D2\n",
              "239      10      21  14:26     戈东  2024-06-21    D2\n",
              "\n",
              "[240 rows x 6 columns]"
            ]
          },
          "execution_count": 90,
          "metadata": {},
          "output_type": "execute_result"
        }
      ],
      "source": [
        "final_df"
      ]
    },
    {
      "cell_type": "code",
      "execution_count": 91,
      "id": "882d6fec",
      "metadata": {},
      "outputs": [],
      "source": [
        "from scipy.stats import f_oneway\n",
        "a1_crunch=final_df.loc[final_df['group']=='A1','crunch']\n",
        "a2_crunch=final_df.loc[final_df['group']=='A2','crunch']\n",
        "b1_crunch=final_df.loc[final_df['group']=='B1','crunch']\n",
        "b2_crunch=final_df.loc[final_df['group']=='B2','crunch']\n",
        "c1_crunch=final_df.loc[final_df['group']=='C1','crunch']\n",
        "c2_crunch=final_df.loc[final_df['group']=='C2','crunch']\n",
        "d1_crunch=final_df.loc[final_df['group']=='D1','crunch']\n",
        "d2_crunch=final_df.loc[final_df['group']=='D2','crunch']\n",
        "e1_crunch=final_df.loc[final_df['group']=='E1','crunch']\n",
        "e2_crunch=final_df.loc[final_df['group']=='E2','crunch']\n",
        "f1_crunch=final_df.loc[final_df['group']=='F1','crunch']\n",
        "f2_crunch=final_df.loc[final_df['group']=='F2','crunch']\n",
        "\n"
      ]
    },
    {
      "cell_type": "code",
      "execution_count": 92,
      "id": "8ff0adb4",
      "metadata": {},
      "outputs": [
        {
          "data": {
            "text/plain": [
              "F_onewayResult(statistic=0.8606785813862428, pvalue=0.5099455254219634)"
            ]
          },
          "execution_count": 92,
          "metadata": {},
          "output_type": "execute_result"
        }
      ],
      "source": [
        "f_oneway(a1_crunch, b1_crunch,c1_crunch,d1_crunch,e1_crunch,f1_crunch)"
      ]
    },
    {
      "cell_type": "code",
      "execution_count": 93,
      "id": "7f4bc94e",
      "metadata": {},
      "outputs": [],
      "source": [
        "from scipy.stats import f_oneway\n",
        "a1_crunch=data_machine.loc[data_machine['Batch']=='A1','MAX db']\n",
        "a2_crunch=data_machine.loc[data_machine['Batch']=='A2','MAX db']\n",
        "b1_crunch=data_machine.loc[data_machine['Batch']=='B1','MAX db']\n",
        "b2_crunch=data_machine.loc[data_machine['Batch']=='B2','MAX db']\n",
        "c1_crunch=data_machine.loc[data_machine['Batch']=='C1','MAX db']\n",
        "c2_crunch=data_machine.loc[data_machine['Batch']=='C2','MAX db']\n",
        "d1_crunch=data_machine.loc[data_machine['Batch']=='D1','MAX db']\n",
        "d2_crunch=data_machine.loc[data_machine['Batch']=='D2','MAX db']\n",
        "e1_crunch=data_machine.loc[data_machine['Batch']=='E1','MAX db']\n",
        "e2_crunch=data_machine.loc[data_machine['Batch']=='E2','MAX db']\n",
        "f1_crunch=data_machine.loc[data_machine['Batch']=='F1','MAX db']\n",
        "f2_crunch=data_machine.loc[data_machine['Batch']=='F2','MAX db']\n",
        "\n"
      ]
    },
    {
      "cell_type": "code",
      "execution_count": 94,
      "id": "20c2afbb",
      "metadata": {},
      "outputs": [
        {
          "data": {
            "text/plain": [
              "F_onewayResult(statistic=3.809539537591297, pvalue=0.0031644155394331833)"
            ]
          },
          "execution_count": 94,
          "metadata": {},
          "output_type": "execute_result"
        }
      ],
      "source": [
        "f_oneway(a1_crunch, b1_crunch,c1_crunch,d1_crunch,e1_crunch,f1_crunch)"
      ]
    },
    {
      "cell_type": "code",
      "execution_count": 95,
      "id": "2ff562f1",
      "metadata": {},
      "outputs": [
        {
          "data": {
            "text/plain": [
              "F_onewayResult(statistic=3.257648480036831, pvalue=0.008703925358853039)"
            ]
          },
          "execution_count": 95,
          "metadata": {},
          "output_type": "execute_result"
        }
      ],
      "source": [
        "f_oneway(a2_crunch, b2_crunch,c2_crunch,d2_crunch,e2_crunch,f2_crunch)"
      ]
    },
    {
      "cell_type": "code",
      "execution_count": null,
      "id": "43125a82",
      "metadata": {},
      "outputs": [],
      "source": []
    },
    {
      "cell_type": "code",
      "execution_count": 96,
      "id": "250e7e6f",
      "metadata": {},
      "outputs": [
        {
          "name": "stdout",
          "output_type": "stream",
          "text": [
            "F_onewayResult(statistic=1.2306899460264131, pvalue=0.2994164297015022)\n",
            "F_onewayResult(statistic=0.9824801720132191, pvalue=0.43166967450456994)\n"
          ]
        }
      ],
      "source": [
        "from scipy.stats import f_oneway\n",
        "a1_crunch=data_machine.loc[data_machine['Batch']=='A1','破裂力']\n",
        "a2_crunch=data_machine.loc[data_machine['Batch']=='A2','破裂力']\n",
        "b1_crunch=data_machine.loc[data_machine['Batch']=='B1','破裂力']\n",
        "b2_crunch=data_machine.loc[data_machine['Batch']=='B2','破裂力']\n",
        "c1_crunch=data_machine.loc[data_machine['Batch']=='C1','破裂力']\n",
        "c2_crunch=data_machine.loc[data_machine['Batch']=='C2','破裂力']\n",
        "d1_crunch=data_machine.loc[data_machine['Batch']=='D1','破裂力']\n",
        "d2_crunch=data_machine.loc[data_machine['Batch']=='D2','破裂力']\n",
        "e1_crunch=data_machine.loc[data_machine['Batch']=='E1','破裂力']\n",
        "e2_crunch=data_machine.loc[data_machine['Batch']=='E2','破裂力']\n",
        "f1_crunch=data_machine.loc[data_machine['Batch']=='F1','破裂力']\n",
        "f2_crunch=data_machine.loc[data_machine['Batch']=='F2','破裂力']\n",
        "print(f_oneway(a1_crunch, b1_crunch,c1_crunch,d1_crunch,e1_crunch,f1_crunch))\n",
        "print(f_oneway(a2_crunch, b2_crunch,c2_crunch,d2_crunch,e2_crunch,f2_crunch))"
      ]
    },
    {
      "cell_type": "code",
      "execution_count": 97,
      "id": "d992bfeb",
      "metadata": {},
      "outputs": [
        {
          "name": "stdout",
          "output_type": "stream",
          "text": [
            "F_onewayResult(statistic=1.011554313514567, pvalue=0.41430127651561965)\n",
            "F_onewayResult(statistic=0.7423834340457881, pvalue=0.5932957908053756)\n"
          ]
        }
      ],
      "source": [
        "from scipy.stats import f_oneway\n",
        "a1_crunch=data_machine.loc[data_machine['Batch']=='A1','破裂距离']\n",
        "a2_crunch=data_machine.loc[data_machine['Batch']=='A2','破裂距离']\n",
        "b1_crunch=data_machine.loc[data_machine['Batch']=='B1','破裂距离']\n",
        "b2_crunch=data_machine.loc[data_machine['Batch']=='B2','破裂距离']\n",
        "c1_crunch=data_machine.loc[data_machine['Batch']=='C1','破裂距离']\n",
        "c2_crunch=data_machine.loc[data_machine['Batch']=='C2','破裂距离']\n",
        "d1_crunch=data_machine.loc[data_machine['Batch']=='D1','破裂距离']\n",
        "d2_crunch=data_machine.loc[data_machine['Batch']=='D2','破裂距离']\n",
        "e1_crunch=data_machine.loc[data_machine['Batch']=='E1','破裂距离']\n",
        "e2_crunch=data_machine.loc[data_machine['Batch']=='E2','破裂距离']\n",
        "f1_crunch=data_machine.loc[data_machine['Batch']=='F1','破裂距离']\n",
        "f2_crunch=data_machine.loc[data_machine['Batch']=='F2','破裂距离']\n",
        "print(f_oneway(a1_crunch, b1_crunch,c1_crunch,d1_crunch,e1_crunch,f1_crunch))\n",
        "print(f_oneway(a2_crunch, b2_crunch,c2_crunch,d2_crunch,e2_crunch,f2_crunch))"
      ]
    },
    {
      "cell_type": "code",
      "execution_count": 98,
      "id": "a10718ec",
      "metadata": {},
      "outputs": [
        {
          "data": {
            "text/plain": [
              "count    239.000000\n",
              "mean      75.108246\n",
              "std        4.290291\n",
              "min       63.421624\n",
              "25%       71.522712\n",
              "50%       75.015440\n",
              "75%       78.269662\n",
              "max       86.506081\n",
              "Name: MAX db, dtype: float64"
            ]
          },
          "execution_count": 98,
          "metadata": {},
          "output_type": "execute_result"
        }
      ],
      "source": [
        "data_machine['MAX db'].astype(float).describe()"
      ]
    },
    {
      "cell_type": "code",
      "execution_count": null,
      "id": "331de12e",
      "metadata": {},
      "outputs": [],
      "source": []
    },
    {
      "cell_type": "code",
      "execution_count": 99,
      "id": "b89c9449",
      "metadata": {},
      "outputs": [],
      "source": [
        "final_df['group']=final_df['group'].fillna('NA')"
      ]
    },
    {
      "cell_type": "code",
      "execution_count": 100,
      "id": "9ad84251",
      "metadata": {},
      "outputs": [],
      "source": [
        "a_crunch=final_df.loc[final_df['group'].str.contains('A'),'crunch']\n",
        "\n",
        "b_crunch=final_df.loc[final_df['group'].str.contains('B'),'crunch']\n",
        "\n",
        "c_crunch=final_df.loc[final_df['group'].str.contains('C'),'crunch']\n",
        "\n",
        "d_crunch=final_df.loc[final_df['group'].str.contains('D'),'crunch']\n",
        "\n",
        "e_crunch=final_df.loc[final_df['group'].str.contains('E'),'crunch']\n",
        "\n",
        "f_crunch=final_df.loc[final_df['group'].str.contains('F'),'crunch']\n"
      ]
    },
    {
      "cell_type": "code",
      "execution_count": 101,
      "id": "9f6386ec",
      "metadata": {},
      "outputs": [
        {
          "data": {
            "text/plain": [
              "F_onewayResult(statistic=1.6794666620254335, pvalue=0.14031993723763636)"
            ]
          },
          "execution_count": 101,
          "metadata": {},
          "output_type": "execute_result"
        }
      ],
      "source": [
        "f_oneway(a_crunch, b_crunch,c_crunch,d_crunch,e_crunch,f_crunch)"
      ]
    },
    {
      "cell_type": "code",
      "execution_count": 102,
      "id": "29292eae",
      "metadata": {},
      "outputs": [],
      "source": [
        "a_crunch=data_machine.loc[data_machine['Batch'].str.contains('A'),'MAX db']\n",
        "\n",
        "b_crunch=data_machine.loc[data_machine['Batch'].str.contains('B'),'MAX db']\n",
        "\n",
        "c_crunch=data_machine.loc[data_machine['Batch'].str.contains('C'),'MAX db']\n",
        "\n",
        "d_crunch=data_machine.loc[data_machine['Batch'].str.contains('D'),'MAX db']\n",
        "\n",
        "e_crunch=data_machine.loc[data_machine['Batch'].str.contains('E'),'MAX db']\n",
        "\n",
        "f_crunch=data_machine.loc[data_machine['Batch'].str.contains('F'),'MAX db']\n"
      ]
    },
    {
      "cell_type": "code",
      "execution_count": 103,
      "id": "1d68fcf0",
      "metadata": {},
      "outputs": [
        {
          "data": {
            "text/plain": [
              "F_onewayResult(statistic=6.226273218139125, pvalue=1.930181263924279e-05)"
            ]
          },
          "execution_count": 103,
          "metadata": {},
          "output_type": "execute_result"
        }
      ],
      "source": [
        "f_oneway(a_crunch, b_crunch,c_crunch,d_crunch,e_crunch,f_crunch)"
      ]
    },
    {
      "cell_type": "code",
      "execution_count": 104,
      "id": "0198bc89",
      "metadata": {},
      "outputs": [],
      "source": [
        "import matplotlib.pyplot as plt"
      ]
    },
    {
      "cell_type": "code",
      "execution_count": 105,
      "id": "1a1dd1b1",
      "metadata": {},
      "outputs": [
        {
          "data": {
            "text/plain": [
              "<AxesSubplot:xlabel='crunch', ylabel='Density'>"
            ]
          },
          "execution_count": 105,
          "metadata": {},
          "output_type": "execute_result"
        },
        {
          "data": {
            "image/png": "[encoded data removed]",
            "text/plain": [
              "<Figure size 432x288 with 1 Axes>"
            ]
          },
          "metadata": {
            "needs_background": "light"
          },
          "output_type": "display_data"
        }
      ],
      "source": [
        "sns.distplot(final_df['crunch'])"
      ]
    },
    {
      "cell_type": "code",
      "execution_count": 106,
      "id": "8c7b5290",
      "metadata": {},
      "outputs": [
        {
          "data": {
            "text/plain": [
              "<matplotlib.legend.Legend at 0x196010e4430>"
            ]
          },
          "execution_count": 106,
          "metadata": {},
          "output_type": "execute_result"
        },
        {
          "data": {
            "image/png": "[encoded data removed]",
            "text/plain": [
              "<Figure size 432x288 with 1 Axes>"
            ]
          },
          "metadata": {
            "needs_background": "light"
          },
          "output_type": "display_data"
        }
      ],
      "source": [
        "sns.distplot(a_crunch,label='a')\n",
        "sns.distplot(b_crunch,label='b')\n",
        "sns.distplot(c_crunch,label='c')\n",
        "sns.distplot(d_crunch,label='d')\n",
        "sns.distplot(e_crunch,label='e')\n",
        "sns.distplot(f_crunch,label='f')\n",
        "plt.legend()"
      ]
    },
    {
      "cell_type": "code",
      "execution_count": 107,
      "id": "48f2c837",
      "metadata": {},
      "outputs": [
        {
          "data": {
            "text/plain": [
              "<matplotlib.legend.Legend at 0x196000764f0>"
            ]
          },
          "execution_count": 107,
          "metadata": {},
          "output_type": "execute_result"
        },
        {
          "data": {
            "image/png": "[encoded data removed]",
            "text/plain": [
              "<Figure size 432x288 with 1 Axes>"
            ]
          },
          "metadata": {
            "needs_background": "light"
          },
          "output_type": "display_data"
        }
      ],
      "source": [
        "\n",
        "sns.distplot(b_crunch,label='F')\n",
        "plt.legend()"
      ]
    },
    {
      "cell_type": "code",
      "execution_count": 108,
      "id": "89d4ba3b",
      "metadata": {},
      "outputs": [
        {
          "data": {
            "text/html": [
              "<div>\n",
              "<style scoped>\n",
              "    .dataframe tbody tr th:only-of-type {\n",
              "        vertical-align: middle;\n",
              "    }\n",
              "\n",
              "    .dataframe tbody tr th {\n",
              "        vertical-align: top;\n",
              "    }\n",
              "\n",
              "    .dataframe thead th {\n",
              "        text-align: right;\n",
              "    }\n",
              "</style>\n",
              "<table border=\"1\" class=\"dataframe\">\n",
              "  <thead>\n",
              "    <tr style=\"text-align: right;\">\n",
              "      <th></th>\n",
              "      <th>Test ID</th>\n",
              "      <th>Batch</th>\n",
              "      <th>MAX db</th>\n",
              "      <th>Linear Distance AED: Acoustic Module-T 1:2</th>\n",
              "      <th>破裂距离</th>\n",
              "      <th>破裂力</th>\n",
              "    </tr>\n",
              "  </thead>\n",
              "  <tbody>\n",
              "    <tr>\n",
              "      <th>29</th>\n",
              "      <td>A1-1</td>\n",
              "      <td>A1</td>\n",
              "      <td>78.539227</td>\n",
              "      <td>378.991542</td>\n",
              "      <td>0.374</td>\n",
              "      <td>2026.327818</td>\n",
              "    </tr>\n",
              "    <tr>\n",
              "      <th>30</th>\n",
              "      <td>A1-2</td>\n",
              "      <td>A1</td>\n",
              "      <td>69.464986</td>\n",
              "      <td>357.738942</td>\n",
              "      <td>0.214</td>\n",
              "      <td>379.6587</td>\n",
              "    </tr>\n",
              "    <tr>\n",
              "      <th>31</th>\n",
              "      <td>A1-3</td>\n",
              "      <td>A1</td>\n",
              "      <td>66.881013</td>\n",
              "      <td>352.025107</td>\n",
              "      <td>0.129</td>\n",
              "      <td>326.113587</td>\n",
              "    </tr>\n",
              "    <tr>\n",
              "      <th>32</th>\n",
              "      <td>A1-4</td>\n",
              "      <td>A1</td>\n",
              "      <td>69.110429</td>\n",
              "      <td>328.90583</td>\n",
              "      <td>0.043</td>\n",
              "      <td>32.534581</td>\n",
              "    </tr>\n",
              "    <tr>\n",
              "      <th>33</th>\n",
              "      <td>A1-5</td>\n",
              "      <td>A1</td>\n",
              "      <td>82.370479</td>\n",
              "      <td>433.97777</td>\n",
              "      <td>0.215</td>\n",
              "      <td>590.924921</td>\n",
              "    </tr>\n",
              "    <tr>\n",
              "      <th>...</th>\n",
              "      <td>...</td>\n",
              "      <td>...</td>\n",
              "      <td>...</td>\n",
              "      <td>...</td>\n",
              "      <td>...</td>\n",
              "      <td>...</td>\n",
              "    </tr>\n",
              "    <tr>\n",
              "      <th>318</th>\n",
              "      <td>F2-16</td>\n",
              "      <td>F2</td>\n",
              "      <td>74.282442</td>\n",
              "      <td>432.200172</td>\n",
              "      <td>0.458</td>\n",
              "      <td>2621.337095</td>\n",
              "    </tr>\n",
              "    <tr>\n",
              "      <th>319</th>\n",
              "      <td>F2-17</td>\n",
              "      <td>F2</td>\n",
              "      <td>79.045643</td>\n",
              "      <td>341.108054</td>\n",
              "      <td>0.138</td>\n",
              "      <td>767.378143</td>\n",
              "    </tr>\n",
              "    <tr>\n",
              "      <th>320</th>\n",
              "      <td>F2-18</td>\n",
              "      <td>F2</td>\n",
              "      <td>76.739489</td>\n",
              "      <td>383.574581</td>\n",
              "      <td>0.199</td>\n",
              "      <td>1004.256949</td>\n",
              "    </tr>\n",
              "    <tr>\n",
              "      <th>321</th>\n",
              "      <td>F2-19</td>\n",
              "      <td>F2</td>\n",
              "      <td>74.335484</td>\n",
              "      <td>311.829631</td>\n",
              "      <td>0.449</td>\n",
              "      <td>2410.462145</td>\n",
              "    </tr>\n",
              "    <tr>\n",
              "      <th>322</th>\n",
              "      <td>F2-20</td>\n",
              "      <td>F2</td>\n",
              "      <td>70.633453</td>\n",
              "      <td>353.237277</td>\n",
              "      <td>0.39</td>\n",
              "      <td>2452.777587</td>\n",
              "    </tr>\n",
              "  </tbody>\n",
              "</table>\n",
              "<p>239 rows × 6 columns</p>\n",
              "</div>"
            ],
            "text/plain": [
              "    Test ID Batch     MAX db Linear Distance AED: Acoustic Module-T 1:2  \\\n",
              "29     A1-1    A1  78.539227                                 378.991542   \n",
              "30     A1-2    A1  69.464986                                 357.738942   \n",
              "31     A1-3    A1  66.881013                                 352.025107   \n",
              "32     A1-4    A1  69.110429                                  328.90583   \n",
              "33     A1-5    A1  82.370479                                  433.97777   \n",
              "..      ...   ...        ...                                        ...   \n",
              "318   F2-16    F2  74.282442                                 432.200172   \n",
              "319   F2-17    F2  79.045643                                 341.108054   \n",
              "320   F2-18    F2  76.739489                                 383.574581   \n",
              "321   F2-19    F2  74.335484                                 311.829631   \n",
              "322   F2-20    F2  70.633453                                 353.237277   \n",
              "\n",
              "      破裂距离          破裂力  \n",
              "29   0.374  2026.327818  \n",
              "30   0.214     379.6587  \n",
              "31   0.129   326.113587  \n",
              "32   0.043    32.534581  \n",
              "33   0.215   590.924921  \n",
              "..     ...          ...  \n",
              "318  0.458  2621.337095  \n",
              "319  0.138   767.378143  \n",
              "320  0.199  1004.256949  \n",
              "321  0.449  2410.462145  \n",
              "322   0.39  2452.777587  \n",
              "\n",
              "[239 rows x 6 columns]"
            ]
          },
          "execution_count": 108,
          "metadata": {},
          "output_type": "execute_result"
        }
      ],
      "source": [
        "data_machine"
      ]
    },
    {
      "cell_type": "code",
      "execution_count": 109,
      "id": "a1972340",
      "metadata": {},
      "outputs": [
        {
          "data": {
            "text/plain": [
              "A1    20\n",
              "A2    20\n",
              "B1    20\n",
              "B2    20\n",
              "C1    20\n",
              "C2    20\n",
              "D1    20\n",
              "D2    20\n",
              "E1    20\n",
              "E2    20\n",
              "F2    20\n",
              "F1    19\n",
              "Name: Batch, dtype: int64"
            ]
          },
          "execution_count": 109,
          "metadata": {},
          "output_type": "execute_result"
        }
      ],
      "source": [
        "data_machine['Batch'].value_counts()"
      ]
    },
    {
      "cell_type": "code",
      "execution_count": 110,
      "id": "b8bbdcea",
      "metadata": {},
      "outputs": [],
      "source": [
        "correlation_data=pd.merge(final_df[['group','crunch']],data_machine,left_on=['group'],right_on=['Batch'],how='right')"
      ]
    },
    {
      "cell_type": "code",
      "execution_count": 111,
      "id": "0108d941",
      "metadata": {},
      "outputs": [
        {
          "data": {
            "text/plain": [
              "(240, 2)"
            ]
          },
          "execution_count": 111,
          "metadata": {},
          "output_type": "execute_result"
        }
      ],
      "source": [
        "final_df[['group','crunch']].shape"
      ]
    },
    {
      "cell_type": "code",
      "execution_count": 112,
      "id": "fe701774",
      "metadata": {},
      "outputs": [],
      "source": [
        "correlation_data=correlation_data.dropna()"
      ]
    },
    {
      "cell_type": "code",
      "execution_count": 113,
      "id": "049101f9",
      "metadata": {},
      "outputs": [
        {
          "data": {
            "text/html": [
              "<div>\n",
              "<style scoped>\n",
              "    .dataframe tbody tr th:only-of-type {\n",
              "        vertical-align: middle;\n",
              "    }\n",
              "\n",
              "    .dataframe tbody tr th {\n",
              "        vertical-align: top;\n",
              "    }\n",
              "\n",
              "    .dataframe thead th {\n",
              "        text-align: right;\n",
              "    }\n",
              "</style>\n",
              "<table border=\"1\" class=\"dataframe\">\n",
              "  <thead>\n",
              "    <tr style=\"text-align: right;\">\n",
              "      <th></th>\n",
              "      <th>number</th>\n",
              "      <th>crunch</th>\n",
              "      <th>time</th>\n",
              "      <th>tester</th>\n",
              "      <th>date</th>\n",
              "      <th>group</th>\n",
              "    </tr>\n",
              "  </thead>\n",
              "  <tbody>\n",
              "    <tr>\n",
              "      <th>0</th>\n",
              "      <td>73</td>\n",
              "      <td>24</td>\n",
              "      <td>13:22</td>\n",
              "      <td>A</td>\n",
              "      <td>2024-06-21</td>\n",
              "      <td>F1</td>\n",
              "    </tr>\n",
              "    <tr>\n",
              "      <th>1</th>\n",
              "      <td>39</td>\n",
              "      <td>25</td>\n",
              "      <td>13:22</td>\n",
              "      <td>A</td>\n",
              "      <td>2024-06-21</td>\n",
              "      <td>B2</td>\n",
              "    </tr>\n",
              "    <tr>\n",
              "      <th>2</th>\n",
              "      <td>90</td>\n",
              "      <td>22</td>\n",
              "      <td>13:22</td>\n",
              "      <td>A</td>\n",
              "      <td>2024-06-21</td>\n",
              "      <td>D2</td>\n",
              "    </tr>\n",
              "    <tr>\n",
              "      <th>3</th>\n",
              "      <td>68</td>\n",
              "      <td>24</td>\n",
              "      <td>13:22</td>\n",
              "      <td>A</td>\n",
              "      <td>2024-06-21</td>\n",
              "      <td>C1</td>\n",
              "    </tr>\n",
              "    <tr>\n",
              "      <th>4</th>\n",
              "      <td>165</td>\n",
              "      <td>20</td>\n",
              "      <td>13:22</td>\n",
              "      <td>A</td>\n",
              "      <td>2024-06-21</td>\n",
              "      <td>D1</td>\n",
              "    </tr>\n",
              "    <tr>\n",
              "      <th>...</th>\n",
              "      <td>...</td>\n",
              "      <td>...</td>\n",
              "      <td>...</td>\n",
              "      <td>...</td>\n",
              "      <td>...</td>\n",
              "      <td>...</td>\n",
              "    </tr>\n",
              "    <tr>\n",
              "      <th>235</th>\n",
              "      <td>196</td>\n",
              "      <td>18</td>\n",
              "      <td>14:26</td>\n",
              "      <td>戈东</td>\n",
              "      <td>2024-06-21</td>\n",
              "      <td>D2</td>\n",
              "    </tr>\n",
              "    <tr>\n",
              "      <th>236</th>\n",
              "      <td>21</td>\n",
              "      <td>20</td>\n",
              "      <td>14:26</td>\n",
              "      <td>戈东</td>\n",
              "      <td>2024-06-21</td>\n",
              "      <td>D2</td>\n",
              "    </tr>\n",
              "    <tr>\n",
              "      <th>237</th>\n",
              "      <td>5</td>\n",
              "      <td>20</td>\n",
              "      <td>14:26</td>\n",
              "      <td>戈东</td>\n",
              "      <td>2024-06-21</td>\n",
              "      <td>F1</td>\n",
              "    </tr>\n",
              "    <tr>\n",
              "      <th>238</th>\n",
              "      <td>187</td>\n",
              "      <td>22</td>\n",
              "      <td>14:26</td>\n",
              "      <td>戈东</td>\n",
              "      <td>2024-06-21</td>\n",
              "      <td>D2</td>\n",
              "    </tr>\n",
              "    <tr>\n",
              "      <th>239</th>\n",
              "      <td>10</td>\n",
              "      <td>21</td>\n",
              "      <td>14:26</td>\n",
              "      <td>戈东</td>\n",
              "      <td>2024-06-21</td>\n",
              "      <td>D2</td>\n",
              "    </tr>\n",
              "  </tbody>\n",
              "</table>\n",
              "<p>240 rows × 6 columns</p>\n",
              "</div>"
            ],
            "text/plain": [
              "     number  crunch   time tester        date group\n",
              "0        73      24  13:22      A  2024-06-21    F1\n",
              "1        39      25  13:22      A  2024-06-21    B2\n",
              "2        90      22  13:22      A  2024-06-21    D2\n",
              "3        68      24  13:22      A  2024-06-21    C1\n",
              "4       165      20  13:22      A  2024-06-21    D1\n",
              "..      ...     ...    ...    ...         ...   ...\n",
              "235     196      18  14:26     戈东  2024-06-21    D2\n",
              "236      21      20  14:26     戈东  2024-06-21    D2\n",
              "237       5      20  14:26     戈东  2024-06-21    F1\n",
              "238     187      22  14:26     戈东  2024-06-21    D2\n",
              "239      10      21  14:26     戈东  2024-06-21    D2\n",
              "\n",
              "[240 rows x 6 columns]"
            ]
          },
          "execution_count": 113,
          "metadata": {},
          "output_type": "execute_result"
        }
      ],
      "source": [
        "final_df"
      ]
    },
    {
      "cell_type": "code",
      "execution_count": 114,
      "id": "c42e0cad",
      "metadata": {},
      "outputs": [
        {
          "name": "stdout",
          "output_type": "stream",
          "text": [
            "MAX db\n",
            "0.0013634562820816765\n",
            "[0.01932365]\n",
            "破裂距离\n",
            "0.0007710672029273002\n",
            "[0.39038833]\n",
            "破裂力\n",
            "0.005414113292055767\n",
            "[0.00018457]\n",
            "MAX db\n",
            "0.012708370727108953\n",
            "[0.0581455]\n",
            "破裂距离\n",
            "0.0018002344583193386\n",
            "[-0.5809719]\n",
            "破裂力\n",
            "0.001258280299313963\n",
            "[9.18502484e-05]\n",
            "MAX db\n",
            "0.007265681670059365\n",
            "[0.04580504]\n",
            "破裂距离\n",
            "2.9704634888494397e-05\n",
            "[0.07674497]\n",
            "破裂力\n",
            "0.002315400903853182\n",
            "[-0.00012615]\n",
            "MAX db\n",
            "0.0029718790144791507\n",
            "[0.02785486]\n",
            "破裂距离\n",
            "0.0013393205523820617\n",
            "[0.49947889]\n",
            "破裂力\n",
            "0.0068071153392517125\n",
            "[0.00021337]\n",
            "MAX db\n",
            "0.0006653509158167648\n",
            "[-0.01371078]\n",
            "破裂距离\n",
            "0.005548681064080019\n",
            "[1.02102169]\n",
            "破裂力\n",
            "0.00045000508127723826\n",
            "[-5.59004354e-05]\n",
            "MAX db\n",
            "0.0016429228658682016\n",
            "[0.02160705]\n",
            "破裂距离\n",
            "0.006206815029651258\n",
            "[1.08166852]\n",
            "破裂力\n",
            "0.004341394986732694\n",
            "[0.00017233]\n",
            "MAX db\n",
            "0.003751246076045933\n",
            "[0.03112819]\n",
            "破裂距离\n",
            "0.006755115610209694\n",
            "[1.15086724]\n",
            "破裂力\n",
            "0.001496359919941792\n",
            "[9.84987121e-05]\n",
            "MAX db\n",
            "0.0006421864897427909\n",
            "[0.01285693]\n",
            "破裂距离\n",
            "0.006146243228872583\n",
            "[1.1064976]\n",
            "破裂力\n",
            "0.003859014515112391\n",
            "[0.00016661]\n",
            "MAX db\n",
            "0.005276061166717527\n",
            "[-0.03733825]\n",
            "破裂距离\n",
            "1.4868694829250906e-05\n",
            "[-0.05266912]\n",
            "破裂力\n",
            "0.0004356208824272123\n",
            "[5.31907416e-05]\n",
            "MAX db\n",
            "0.0011293892126346128\n",
            "[0.01799271]\n",
            "破裂距离\n",
            "5.366772597215075e-05\n",
            "[-0.10183437]\n",
            "破裂力\n",
            "0.00146018906302392\n",
            "[9.78321273e-05]\n"
          ]
        }
      ],
      "source": [
        "\n",
        "iteration_number=0\n",
        "correlation_result_dict={}\n",
        "for y_variable in ['MAX db','破裂距离','破裂力']:\n",
        "    correlation_result_dict[y_variable]=[]\n",
        "while iteration_number<10:\n",
        "    for y_variable in ['MAX db','破裂距离','破裂力']:\n",
        "        result_data=data_machine.copy()\n",
        "        for group in ['A1','A2','B1','B2','C1','C2','D1','D2','E1','E2','F1','F2']:\n",
        "            sub_data=result_data.loc[result_data['Batch']==group,:]\n",
        "            #print(group)\n",
        "            manual_crunch=final_df.loc[final_df['group']==group,'crunch']\n",
        "            #manual_crunch=manual_crunch.sample(manual_crunch.shape[0])\n",
        "            if sub_data.shape[0]>manual_crunch.shape[0]:\n",
        "                manual_crunch=manual_crunch.sample(sub_data.shape[0],replace='True')\n",
        "            else:\n",
        "                manual_crunch=manual_crunch.sample(sub_data.shape[0])\n",
        "            result_data.loc[result_data['Batch']==group,'manual_crunch']=manual_crunch.values\n",
        "        reg = LinearRegression().fit(np.array(result_data[y_variable]).reshape(-1,1),np.array(result_data['manual_crunch']))\n",
        "        print(y_variable)\n",
        "        print(reg.score(np.array(result_data[y_variable]).reshape(-1,1),np.array(result_data['manual_crunch'])))\n",
        "        print(reg.coef_)\n",
        "        correlation_result_dict[y_variable].append(reg.coef_)\n",
        "    iteration_number+=1\n"
      ]
    },
    {
      "cell_type": "code",
      "execution_count": 115,
      "id": "af562da3",
      "metadata": {},
      "outputs": [
        {
          "data": {
            "text/plain": [
              "<matplotlib.legend.Legend at 0x19601223520>"
            ]
          },
          "execution_count": 115,
          "metadata": {},
          "output_type": "execute_result"
        },
        {
          "data": {
            "image/png": "[encoded data removed]",
            "text/plain": [
              "<Figure size 432x288 with 1 Axes>"
            ]
          },
          "metadata": {
            "needs_background": "light"
          },
          "output_type": "display_data"
        }
      ],
      "source": [
        "sns.distplot(data_machine.loc[data_machine['Batch'].str.contains('A'),'MAX db'],label='A')\n",
        "\n",
        "sns.distplot(data_machine.loc[data_machine['Batch'].str.contains('B'),'MAX db'],label='B')\n",
        "\n",
        "sns.distplot(data_machine.loc[data_machine['Batch'].str.contains('C'),'MAX db'],label='C')\n",
        "\n",
        "sns.distplot(data_machine.loc[data_machine['Batch'].str.contains('D'),'MAX db'],label='D')\n",
        "\n",
        "sns.distplot(data_machine.loc[data_machine['Batch'].str.contains('E'),'MAX db'],label='E')\n",
        "\n",
        "sns.distplot(data_machine.loc[data_machine['Batch'].str.contains('F'),'MAX db'],label='F')\n",
        "plt.legend()\n",
        "\n"
      ]
    },
    {
      "cell_type": "code",
      "execution_count": 116,
      "id": "8eb254e0",
      "metadata": {},
      "outputs": [
        {
          "data": {
            "text/plain": [
              "<matplotlib.legend.Legend at 0x196012db730>"
            ]
          },
          "execution_count": 116,
          "metadata": {},
          "output_type": "execute_result"
        },
        {
          "data": {
            "image/png": "[encoded data removed]",
            "text/plain": [
              "<Figure size 432x288 with 1 Axes>"
            ]
          },
          "metadata": {
            "needs_background": "light"
          },
          "output_type": "display_data"
        }
      ],
      "source": [
        "sns.distplot(c_crunch,label='manual-C')\n",
        "sns.distplot(data_machine.loc[data_machine['Batch'].str.contains('C'),'MAX db']/4,label='mahchine-C')\n",
        "plt.legend()"
      ]
    },
    {
      "cell_type": "code",
      "execution_count": 117,
      "id": "4e53cbd7",
      "metadata": {},
      "outputs": [
        {
          "data": {
            "text/plain": [
              "{'MAX db': [array([0.01932365]),\n",
              "  array([0.0581455]),\n",
              "  array([0.04580504]),\n",
              "  array([0.02785486]),\n",
              "  array([-0.01371078]),\n",
              "  array([0.02160705]),\n",
              "  array([0.03112819]),\n",
              "  array([0.01285693]),\n",
              "  array([-0.03733825]),\n",
              "  array([0.01799271])],\n",
              " '破裂距离': [array([0.39038833]),\n",
              "  array([-0.5809719]),\n",
              "  array([0.07674497]),\n",
              "  array([0.49947889]),\n",
              "  array([1.02102169]),\n",
              "  array([1.08166852]),\n",
              "  array([1.15086724]),\n",
              "  array([1.1064976]),\n",
              "  array([-0.05266912]),\n",
              "  array([-0.10183437])],\n",
              " '破裂力': [array([0.00018457]),\n",
              "  array([9.18502484e-05]),\n",
              "  array([-0.00012615]),\n",
              "  array([0.00021337]),\n",
              "  array([-5.59004354e-05]),\n",
              "  array([0.00017233]),\n",
              "  array([9.84987121e-05]),\n",
              "  array([0.00016661]),\n",
              "  array([5.31907416e-05]),\n",
              "  array([9.78321273e-05])]}"
            ]
          },
          "execution_count": 117,
          "metadata": {},
          "output_type": "execute_result"
        }
      ],
      "source": [
        "correlation_result_dict"
      ]
    },
    {
      "cell_type": "code",
      "execution_count": 118,
      "id": "264c6d55",
      "metadata": {},
      "outputs": [],
      "source": [
        "mean_crunch=final_df.groupby(['group'])['crunch'].mean()"
      ]
    },
    {
      "cell_type": "code",
      "execution_count": 119,
      "id": "693d9c6f",
      "metadata": {},
      "outputs": [],
      "source": [
        "machine_mean=data_machine.groupby(['Batch']).mean()"
      ]
    },
    {
      "cell_type": "code",
      "execution_count": 120,
      "id": "2443c510",
      "metadata": {},
      "outputs": [],
      "source": [
        "mean_reg=pd.merge(machine_mean,mean_crunch,left_index=True,right_index=True,how='left')"
      ]
    },
    {
      "cell_type": "code",
      "execution_count": 121,
      "id": "1e06a228",
      "metadata": {},
      "outputs": [
        {
          "data": {
            "text/html": [
              "<div>\n",
              "<style scoped>\n",
              "    .dataframe tbody tr th:only-of-type {\n",
              "        vertical-align: middle;\n",
              "    }\n",
              "\n",
              "    .dataframe tbody tr th {\n",
              "        vertical-align: top;\n",
              "    }\n",
              "\n",
              "    .dataframe thead th {\n",
              "        text-align: right;\n",
              "    }\n",
              "</style>\n",
              "<table border=\"1\" class=\"dataframe\">\n",
              "  <thead>\n",
              "    <tr style=\"text-align: right;\">\n",
              "      <th></th>\n",
              "      <th>MAX db</th>\n",
              "      <th>Linear Distance AED: Acoustic Module-T 1:2</th>\n",
              "      <th>破裂距离</th>\n",
              "      <th>破裂力</th>\n",
              "      <th>crunch</th>\n",
              "    </tr>\n",
              "    <tr>\n",
              "      <th>Batch</th>\n",
              "      <th></th>\n",
              "      <th></th>\n",
              "      <th></th>\n",
              "      <th></th>\n",
              "      <th></th>\n",
              "    </tr>\n",
              "  </thead>\n",
              "  <tbody>\n",
              "    <tr>\n",
              "      <th>A1</th>\n",
              "      <td>74.929029</td>\n",
              "      <td>393.101775</td>\n",
              "      <td>0.267300</td>\n",
              "      <td>1090.321140</td>\n",
              "      <td>19.850000</td>\n",
              "    </tr>\n",
              "    <tr>\n",
              "      <th>A2</th>\n",
              "      <td>76.536866</td>\n",
              "      <td>413.019415</td>\n",
              "      <td>0.275900</td>\n",
              "      <td>1454.466762</td>\n",
              "      <td>20.200000</td>\n",
              "    </tr>\n",
              "    <tr>\n",
              "      <th>B1</th>\n",
              "      <td>76.108579</td>\n",
              "      <td>395.652394</td>\n",
              "      <td>0.275150</td>\n",
              "      <td>1318.809852</td>\n",
              "      <td>20.850000</td>\n",
              "    </tr>\n",
              "    <tr>\n",
              "      <th>B2</th>\n",
              "      <td>77.331370</td>\n",
              "      <td>389.589099</td>\n",
              "      <td>0.316800</td>\n",
              "      <td>1314.014102</td>\n",
              "      <td>21.368421</td>\n",
              "    </tr>\n",
              "    <tr>\n",
              "      <th>C1</th>\n",
              "      <td>72.781266</td>\n",
              "      <td>351.186644</td>\n",
              "      <td>0.281950</td>\n",
              "      <td>1417.854793</td>\n",
              "      <td>20.476190</td>\n",
              "    </tr>\n",
              "    <tr>\n",
              "      <th>C2</th>\n",
              "      <td>72.603634</td>\n",
              "      <td>347.389925</td>\n",
              "      <td>0.241450</td>\n",
              "      <td>1074.754770</td>\n",
              "      <td>19.700000</td>\n",
              "    </tr>\n",
              "    <tr>\n",
              "      <th>D1</th>\n",
              "      <td>73.512215</td>\n",
              "      <td>380.698670</td>\n",
              "      <td>0.310100</td>\n",
              "      <td>1473.710991</td>\n",
              "      <td>20.700000</td>\n",
              "    </tr>\n",
              "    <tr>\n",
              "      <th>D2</th>\n",
              "      <td>74.480710</td>\n",
              "      <td>372.757846</td>\n",
              "      <td>0.334600</td>\n",
              "      <td>1533.206843</td>\n",
              "      <td>19.750000</td>\n",
              "    </tr>\n",
              "    <tr>\n",
              "      <th>E1</th>\n",
              "      <td>75.142262</td>\n",
              "      <td>347.463451</td>\n",
              "      <td>0.209200</td>\n",
              "      <td>930.826670</td>\n",
              "      <td>20.789474</td>\n",
              "    </tr>\n",
              "    <tr>\n",
              "      <th>E2</th>\n",
              "      <td>74.392360</td>\n",
              "      <td>364.268037</td>\n",
              "      <td>0.313350</td>\n",
              "      <td>1575.198517</td>\n",
              "      <td>20.750000</td>\n",
              "    </tr>\n",
              "    <tr>\n",
              "      <th>F1</th>\n",
              "      <td>77.458980</td>\n",
              "      <td>380.637284</td>\n",
              "      <td>0.270105</td>\n",
              "      <td>1302.783089</td>\n",
              "      <td>21.100000</td>\n",
              "    </tr>\n",
              "    <tr>\n",
              "      <th>F2</th>\n",
              "      <td>76.139218</td>\n",
              "      <td>387.220276</td>\n",
              "      <td>0.314250</td>\n",
              "      <td>1581.315408</td>\n",
              "      <td>20.950000</td>\n",
              "    </tr>\n",
              "  </tbody>\n",
              "</table>\n",
              "</div>"
            ],
            "text/plain": [
              "          MAX db  Linear Distance AED: Acoustic Module-T 1:2      破裂距离  \\\n",
              "Batch                                                                    \n",
              "A1     74.929029                                  393.101775  0.267300   \n",
              "A2     76.536866                                  413.019415  0.275900   \n",
              "B1     76.108579                                  395.652394  0.275150   \n",
              "B2     77.331370                                  389.589099  0.316800   \n",
              "C1     72.781266                                  351.186644  0.281950   \n",
              "C2     72.603634                                  347.389925  0.241450   \n",
              "D1     73.512215                                  380.698670  0.310100   \n",
              "D2     74.480710                                  372.757846  0.334600   \n",
              "E1     75.142262                                  347.463451  0.209200   \n",
              "E2     74.392360                                  364.268037  0.313350   \n",
              "F1     77.458980                                  380.637284  0.270105   \n",
              "F2     76.139218                                  387.220276  0.314250   \n",
              "\n",
              "               破裂力     crunch  \n",
              "Batch                          \n",
              "A1     1090.321140  19.850000  \n",
              "A2     1454.466762  20.200000  \n",
              "B1     1318.809852  20.850000  \n",
              "B2     1314.014102  21.368421  \n",
              "C1     1417.854793  20.476190  \n",
              "C2     1074.754770  19.700000  \n",
              "D1     1473.710991  20.700000  \n",
              "D2     1533.206843  19.750000  \n",
              "E1      930.826670  20.789474  \n",
              "E2     1575.198517  20.750000  \n",
              "F1     1302.783089  21.100000  \n",
              "F2     1581.315408  20.950000  "
            ]
          },
          "execution_count": 121,
          "metadata": {},
          "output_type": "execute_result"
        }
      ],
      "source": [
        "mean_reg"
      ]
    },
    {
      "cell_type": "code",
      "execution_count": 122,
      "id": "2b751afd",
      "metadata": {},
      "outputs": [
        {
          "data": {
            "text/plain": [
              "[<matplotlib.lines.Line2D at 0x196013e8520>]"
            ]
          },
          "execution_count": 122,
          "metadata": {},
          "output_type": "execute_result"
        },
        {
          "data": {
            "image/png": "[encoded data removed]",
            "text/plain": [
              "<Figure size 432x288 with 1 Axes>"
            ]
          },
          "metadata": {
            "needs_background": "light"
          },
          "output_type": "display_data"
        }
      ],
      "source": [
        "sns.scatterplot(data=mean_reg,x='crunch',y='MAX db')\n",
        "z = np.polyfit(mean_reg['crunch'], mean_reg['MAX db'], 1)\n",
        "p = np.poly1d(z)\n",
        "plt.plot(mean_reg['crunch'], p(mean_reg['crunch']))"
      ]
    },
    {
      "cell_type": "code",
      "execution_count": 127,
      "id": "1b294845",
      "metadata": {},
      "outputs": [
        {
          "data": {
            "text/plain": [
              "(0.5915209407747379, 0.042776240651379624)"
            ]
          },
          "execution_count": 127,
          "metadata": {},
          "output_type": "execute_result"
        }
      ],
      "source": [
        "corr, p_value = pearsonr(mean_reg['crunch'],mean_reg['MAX db'])\n",
        "corr, p_value"
      ]
    },
    {
      "cell_type": "code",
      "execution_count": 128,
      "id": "49b0154c",
      "metadata": {},
      "outputs": [
        {
          "data": {
            "text/plain": [
              "(0.15461700579422624, 0.6313678245563221)"
            ]
          },
          "execution_count": 128,
          "metadata": {},
          "output_type": "execute_result"
        }
      ],
      "source": [
        "corr, p_value = pearsonr(mean_reg['crunch'],mean_reg['Linear Distance AED: Acoustic Module-T 1:2'])\n",
        "corr, p_value"
      ]
    },
    {
      "cell_type": "code",
      "execution_count": 129,
      "id": "a0ebfefa",
      "metadata": {},
      "outputs": [
        {
          "data": {
            "text/plain": [
              "(0.1427071141104051, 0.6581698308427583)"
            ]
          },
          "execution_count": 129,
          "metadata": {},
          "output_type": "execute_result"
        }
      ],
      "source": [
        "corr, p_value = pearsonr(mean_reg['crunch'],mean_reg['破裂距离'])\n",
        "corr, p_value"
      ]
    },
    {
      "cell_type": "code",
      "execution_count": 130,
      "id": "0e4a9e14",
      "metadata": {},
      "outputs": [
        {
          "data": {
            "text/plain": [
              "(0.170221157507644, 0.5968639034906452)"
            ]
          },
          "execution_count": 130,
          "metadata": {},
          "output_type": "execute_result"
        }
      ],
      "source": [
        "from scipy.stats import pearsonr\n",
        "corr, p_value = pearsonr(mean_reg['crunch'],mean_reg['破裂力'])\n",
        "corr, p_value "
      ]
    },
    {
      "cell_type": "code",
      "execution_count": 66,
      "id": "f0ea3a03",
      "metadata": {},
      "outputs": [
        {
          "data": {
            "text/plain": [
              "[<matplotlib.lines.Line2D at 0x2c999774220>]"
            ]
          },
          "execution_count": 66,
          "metadata": {},
          "output_type": "execute_result"
        },
        {
          "data": {
            "image/png": "[encoded data removed]",
            "text/plain": [
              "<Figure size 432x288 with 1 Axes>"
            ]
          },
          "metadata": {
            "needs_background": "light"
          },
          "output_type": "display_data"
        }
      ],
      "source": [
        "sns.scatterplot(data=mean_reg,x='crunch',y='破裂力')\n",
        "z = np.polyfit(mean_reg['crunch'], mean_reg['破裂力'], 1)\n",
        "p = np.poly1d(z)\n",
        "plt.plot(mean_reg['crunch'], p(mean_reg['crunch']))"
      ]
    },
    {
      "cell_type": "code",
      "execution_count": 67,
      "id": "02491f20",
      "metadata": {},
      "outputs": [
        {
          "data": {
            "text/plain": [
              "[<matplotlib.lines.Line2D at 0x2c9996f3fd0>]"
            ]
          },
          "execution_count": 67,
          "metadata": {},
          "output_type": "execute_result"
        },
        {
          "data": {
            "image/png": "[encoded data removed]",
            "text/plain": [
              "<Figure size 432x288 with 1 Axes>"
            ]
          },
          "metadata": {
            "needs_background": "light"
          },
          "output_type": "display_data"
        }
      ],
      "source": [
        "sns.scatterplot(data=mean_reg,x='crunch',y='破裂距离')\n",
        "z = np.polyfit(mean_reg['crunch'], mean_reg['破裂距离'], 1)\n",
        "p = np.poly1d(z)\n",
        "plt.plot(mean_reg['crunch'], p(mean_reg['crunch']))"
      ]
    },
    {
      "cell_type": "code",
      "execution_count": 68,
      "id": "d01995fd",
      "metadata": {},
      "outputs": [
        {
          "data": {
            "text/plain": [
              "[<matplotlib.lines.Line2D at 0x2c99983d550>]"
            ]
          },
          "execution_count": 68,
          "metadata": {},
          "output_type": "execute_result"
        },
        {
          "data": {
            "image/png": "[encoded data removed]",
            "text/plain": [
              "<Figure size 432x288 with 1 Axes>"
            ]
          },
          "metadata": {
            "needs_background": "light"
          },
          "output_type": "display_data"
        }
      ],
      "source": [
        "sns.scatterplot(data=mean_reg,x='crunch',y='Linear Distance AED: Acoustic Module-T 1:2')\n",
        "z = np.polyfit(mean_reg['crunch'], mean_reg['Linear Distance AED: Acoustic Module-T 1:2'], 1)\n",
        "p = np.poly1d(z)\n",
        "plt.plot(mean_reg['crunch'], p(mean_reg['crunch']))"
      ]
    },
    {
      "cell_type": "code",
      "execution_count": null,
      "id": "7ef0d719",
      "metadata": {},
      "outputs": [],
      "source": []
    },
    {
      "cell_type": "code",
      "execution_count": null,
      "id": "a44d504e",
      "metadata": {},
      "outputs": [],
      "source": []
    },
    {
      "cell_type": "code",
      "execution_count": null,
      "id": "783f9600",
      "metadata": {},
      "outputs": [],
      "source": []
    }
  ],
  "metadata": {
    "kernel_info": {
      "name": "python3"
    },
    "kernelspec": {
      "display_name": "Python 3 (ipykernel)",
      "language": "python",
      "name": "python3"
    },
    "language_info": {
      "codemirror_mode": {
        "name": "ipython",
        "version": 3
      },
      "file_extension": ".py",
      "mimetype": "text/x-python",
      "name": "python",
      "nbconvert_exporter": "python",
      "pygments_lexer": "ipython3",
      "version": "3.8.5"
    },
    "nteract": {
      "version": "nteract-front-end@1.0.0"
    },
    "toc": {
      "base_numbering": 1,
      "nav_menu": {},
      "number_sections": true,
      "sideBar": true,
      "skip_h1_title": false,
      "title_cell": "Table of Contents",
      "title_sidebar": "Contents",
      "toc_cell": false,
      "toc_position": {},
      "toc_section_display": true,
      "toc_window_display": false
    }
  },
  "nbformat": 4,
  "nbformat_minor": 5
}
