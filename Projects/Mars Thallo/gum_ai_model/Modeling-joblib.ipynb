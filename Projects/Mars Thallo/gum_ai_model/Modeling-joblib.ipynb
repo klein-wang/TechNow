{
 "cells": [
  {
   "cell_type": "code",
   "execution_count": 1,
   "metadata": {
    "gather": {
     "logged": 1720592073606
    }
   },
   "outputs": [],
   "source": [
    "import pandas as pd\n",
    "import os"
   ]
  },
  {
   "cell_type": "code",
   "execution_count": 7,
   "metadata": {},
   "outputs": [],
   "source": [
    "priori = pd.read_excel(\"/Users/yue.a.tao/Desktop/Desktop/Gum/Data/Priori_Knowledge.xlsx\")\n",
    "path = \"/Users/yue.a.tao/Desktop/Desktop/Gum/Data/csv\"\n",
    "os.chdir(path)\n",
    "current_path = os.getcwd()"
   ]
  },
  {
   "cell_type": "code",
   "execution_count": 5,
   "metadata": {
    "gather": {
     "logged": 1720592217331
    },
    "jupyter": {
     "outputs_hidden": false,
     "source_hidden": false
    },
    "nteract": {
     "transient": {
      "deleting": false
     }
    }
   },
   "outputs": [],
   "source": [
    "df_3 = pd.read_csv('results_3号辊间隙.csv')"
   ]
  },
  {
   "cell_type": "code",
   "execution_count": 7,
   "metadata": {
    "gather": {
     "logged": 1720592261103
    },
    "jupyter": {
     "outputs_hidden": false,
     "source_hidden": false
    },
    "nteract": {
     "transient": {
      "deleting": false
     }
    }
   },
   "outputs": [],
   "source": [
    "df_3 = df_3[(df_3['K2']>=5) & (df_3['K2']<=15)]"
   ]
  },
  {
   "cell_type": "code",
   "execution_count": 11,
   "metadata": {
    "gather": {
     "logged": 1720592349341
    },
    "jupyter": {
     "outputs_hidden": false,
     "source_hidden": false
    },
    "nteract": {
     "transient": {
      "deleting": false
     }
    }
   },
   "outputs": [],
   "source": [
    "from sklearn.linear_model import LinearRegression\n",
    "import joblib\n",
    "\n",
    "model = LinearRegression()"
   ]
  },
  {
   "cell_type": "code",
   "execution_count": 8,
   "metadata": {
    "gather": {
     "logged": 1720592276695
    },
    "jupyter": {
     "outputs_hidden": false,
     "source_hidden": false
    },
    "nteract": {
     "transient": {
      "deleting": false
     }
    }
   },
   "outputs": [
    {
     "data": {
      "text/html": [
       "<div>\n",
       "<style scoped>\n",
       "    .dataframe tbody tr th:only-of-type {\n",
       "        vertical-align: middle;\n",
       "    }\n",
       "\n",
       "    .dataframe tbody tr th {\n",
       "        vertical-align: top;\n",
       "    }\n",
       "\n",
       "    .dataframe thead th {\n",
       "        text-align: right;\n",
       "    }\n",
       "</style>\n",
       "<table border=\"1\" class=\"dataframe\">\n",
       "  <thead>\n",
       "    <tr style=\"text-align: right;\">\n",
       "      <th></th>\n",
       "      <th>Date</th>\n",
       "      <th>Batch</th>\n",
       "      <th>Diff</th>\n",
       "      <th>Weight_change</th>\n",
       "      <th>Weight_smoothed_change</th>\n",
       "      <th>K1</th>\n",
       "      <th>K2</th>\n",
       "    </tr>\n",
       "  </thead>\n",
       "  <tbody>\n",
       "    <tr>\n",
       "      <th>25</th>\n",
       "      <td>2024-04-26 02:26:33</td>\n",
       "      <td>6</td>\n",
       "      <td>-0.0033</td>\n",
       "      <td>0.00</td>\n",
       "      <td>-0.030</td>\n",
       "      <td>NaN</td>\n",
       "      <td>9.090909</td>\n",
       "    </tr>\n",
       "    <tr>\n",
       "      <th>26</th>\n",
       "      <td>2024-04-26 02:42:57</td>\n",
       "      <td>6</td>\n",
       "      <td>0.0024</td>\n",
       "      <td>-0.16</td>\n",
       "      <td>0.026</td>\n",
       "      <td>-66.666667</td>\n",
       "      <td>10.833333</td>\n",
       "    </tr>\n",
       "    <tr>\n",
       "      <th>29</th>\n",
       "      <td>2024-04-26 06:58:01</td>\n",
       "      <td>6</td>\n",
       "      <td>-0.0012</td>\n",
       "      <td>0.09</td>\n",
       "      <td>-0.016</td>\n",
       "      <td>-75.000000</td>\n",
       "      <td>13.333333</td>\n",
       "    </tr>\n",
       "    <tr>\n",
       "      <th>31</th>\n",
       "      <td>2024-04-26 10:09:27</td>\n",
       "      <td>7</td>\n",
       "      <td>0.0027</td>\n",
       "      <td>-0.25</td>\n",
       "      <td>0.038</td>\n",
       "      <td>-92.592593</td>\n",
       "      <td>14.074074</td>\n",
       "    </tr>\n",
       "    <tr>\n",
       "      <th>32</th>\n",
       "      <td>2024-04-26 11:04:37</td>\n",
       "      <td>7</td>\n",
       "      <td>0.0028</td>\n",
       "      <td>0.04</td>\n",
       "      <td>0.026</td>\n",
       "      <td>14.285714</td>\n",
       "      <td>9.285714</td>\n",
       "    </tr>\n",
       "    <tr>\n",
       "      <th>33</th>\n",
       "      <td>2024-04-26 11:12:12</td>\n",
       "      <td>7</td>\n",
       "      <td>-0.0042</td>\n",
       "      <td>0.20</td>\n",
       "      <td>-0.034</td>\n",
       "      <td>-47.619048</td>\n",
       "      <td>8.095238</td>\n",
       "    </tr>\n",
       "    <tr>\n",
       "      <th>37</th>\n",
       "      <td>2024-04-26 16:46:41</td>\n",
       "      <td>8</td>\n",
       "      <td>0.0011</td>\n",
       "      <td>-0.06</td>\n",
       "      <td>0.016</td>\n",
       "      <td>-54.545455</td>\n",
       "      <td>14.545455</td>\n",
       "    </tr>\n",
       "    <tr>\n",
       "      <th>38</th>\n",
       "      <td>2024-04-26 17:23:58</td>\n",
       "      <td>8</td>\n",
       "      <td>-0.0011</td>\n",
       "      <td>-0.07</td>\n",
       "      <td>-0.008</td>\n",
       "      <td>63.636364</td>\n",
       "      <td>7.272727</td>\n",
       "    </tr>\n",
       "    <tr>\n",
       "      <th>42</th>\n",
       "      <td>2024-04-27 04:29:36</td>\n",
       "      <td>10</td>\n",
       "      <td>0.0012</td>\n",
       "      <td>0.03</td>\n",
       "      <td>0.008</td>\n",
       "      <td>25.000000</td>\n",
       "      <td>6.666667</td>\n",
       "    </tr>\n",
       "    <tr>\n",
       "      <th>44</th>\n",
       "      <td>2024-04-27 07:10:38</td>\n",
       "      <td>10</td>\n",
       "      <td>0.0023</td>\n",
       "      <td>0.36</td>\n",
       "      <td>0.022</td>\n",
       "      <td>156.521739</td>\n",
       "      <td>9.565217</td>\n",
       "    </tr>\n",
       "    <tr>\n",
       "      <th>46</th>\n",
       "      <td>2024-04-27 07:41:30</td>\n",
       "      <td>10</td>\n",
       "      <td>0.0037</td>\n",
       "      <td>0.38</td>\n",
       "      <td>0.030</td>\n",
       "      <td>102.702703</td>\n",
       "      <td>8.108108</td>\n",
       "    </tr>\n",
       "    <tr>\n",
       "      <th>58</th>\n",
       "      <td>2024-04-28 22:39:15</td>\n",
       "      <td>13</td>\n",
       "      <td>0.0013</td>\n",
       "      <td>-0.17</td>\n",
       "      <td>0.010</td>\n",
       "      <td>-130.769231</td>\n",
       "      <td>7.692308</td>\n",
       "    </tr>\n",
       "    <tr>\n",
       "      <th>69</th>\n",
       "      <td>2024-05-05 13:27:58</td>\n",
       "      <td>18</td>\n",
       "      <td>0.0047</td>\n",
       "      <td>0.20</td>\n",
       "      <td>0.062</td>\n",
       "      <td>42.553191</td>\n",
       "      <td>13.191489</td>\n",
       "    </tr>\n",
       "    <tr>\n",
       "      <th>74</th>\n",
       "      <td>2024-05-06 00:35:02</td>\n",
       "      <td>19</td>\n",
       "      <td>0.0010</td>\n",
       "      <td>-0.06</td>\n",
       "      <td>0.006</td>\n",
       "      <td>-60.000000</td>\n",
       "      <td>6.000000</td>\n",
       "    </tr>\n",
       "    <tr>\n",
       "      <th>90</th>\n",
       "      <td>2024-05-07 11:21:31</td>\n",
       "      <td>20</td>\n",
       "      <td>0.0016</td>\n",
       "      <td>0.19</td>\n",
       "      <td>0.008</td>\n",
       "      <td>118.750000</td>\n",
       "      <td>5.000000</td>\n",
       "    </tr>\n",
       "    <tr>\n",
       "      <th>93</th>\n",
       "      <td>2024-05-07 11:47:48</td>\n",
       "      <td>20</td>\n",
       "      <td>0.0015</td>\n",
       "      <td>-0.29</td>\n",
       "      <td>0.018</td>\n",
       "      <td>-193.333333</td>\n",
       "      <td>12.000000</td>\n",
       "    </tr>\n",
       "    <tr>\n",
       "      <th>96</th>\n",
       "      <td>2024-05-07 16:53:45</td>\n",
       "      <td>20</td>\n",
       "      <td>-0.0013</td>\n",
       "      <td>0.01</td>\n",
       "      <td>-0.018</td>\n",
       "      <td>-7.692308</td>\n",
       "      <td>13.846154</td>\n",
       "    </tr>\n",
       "    <tr>\n",
       "      <th>98</th>\n",
       "      <td>2024-05-08 06:35:25</td>\n",
       "      <td>22</td>\n",
       "      <td>0.0055</td>\n",
       "      <td>-0.24</td>\n",
       "      <td>0.053</td>\n",
       "      <td>-43.636364</td>\n",
       "      <td>9.636364</td>\n",
       "    </tr>\n",
       "    <tr>\n",
       "      <th>104</th>\n",
       "      <td>2024-05-08 20:13:59</td>\n",
       "      <td>23</td>\n",
       "      <td>0.0023</td>\n",
       "      <td>-0.04</td>\n",
       "      <td>0.028</td>\n",
       "      <td>-17.391304</td>\n",
       "      <td>12.173913</td>\n",
       "    </tr>\n",
       "    <tr>\n",
       "      <th>105</th>\n",
       "      <td>2024-05-08 20:25:11</td>\n",
       "      <td>23</td>\n",
       "      <td>0.0011</td>\n",
       "      <td>0.14</td>\n",
       "      <td>0.012</td>\n",
       "      <td>127.272727</td>\n",
       "      <td>10.909091</td>\n",
       "    </tr>\n",
       "    <tr>\n",
       "      <th>122</th>\n",
       "      <td>2024-05-09 16:33:17</td>\n",
       "      <td>24</td>\n",
       "      <td>-0.0013</td>\n",
       "      <td>-0.02</td>\n",
       "      <td>-0.016</td>\n",
       "      <td>15.384615</td>\n",
       "      <td>12.307692</td>\n",
       "    </tr>\n",
       "    <tr>\n",
       "      <th>129</th>\n",
       "      <td>2024-05-10 00:48:24</td>\n",
       "      <td>26</td>\n",
       "      <td>0.0056</td>\n",
       "      <td>-0.01</td>\n",
       "      <td>0.034</td>\n",
       "      <td>-1.785714</td>\n",
       "      <td>6.071429</td>\n",
       "    </tr>\n",
       "    <tr>\n",
       "      <th>149</th>\n",
       "      <td>2024-05-13 04:03:40</td>\n",
       "      <td>29</td>\n",
       "      <td>0.0010</td>\n",
       "      <td>-0.03</td>\n",
       "      <td>0.006</td>\n",
       "      <td>-30.000000</td>\n",
       "      <td>6.000000</td>\n",
       "    </tr>\n",
       "    <tr>\n",
       "      <th>161</th>\n",
       "      <td>2024-05-14 17:58:01</td>\n",
       "      <td>33</td>\n",
       "      <td>0.0033</td>\n",
       "      <td>0.15</td>\n",
       "      <td>0.028</td>\n",
       "      <td>45.454545</td>\n",
       "      <td>8.484848</td>\n",
       "    </tr>\n",
       "    <tr>\n",
       "      <th>162</th>\n",
       "      <td>2024-05-14 18:40:08</td>\n",
       "      <td>33</td>\n",
       "      <td>0.0018</td>\n",
       "      <td>0.32</td>\n",
       "      <td>0.014</td>\n",
       "      <td>177.777778</td>\n",
       "      <td>7.777778</td>\n",
       "    </tr>\n",
       "    <tr>\n",
       "      <th>168</th>\n",
       "      <td>2024-05-20 02:19:37</td>\n",
       "      <td>36</td>\n",
       "      <td>-0.0044</td>\n",
       "      <td>-0.66</td>\n",
       "      <td>-0.052</td>\n",
       "      <td>150.000000</td>\n",
       "      <td>11.818182</td>\n",
       "    </tr>\n",
       "    <tr>\n",
       "      <th>183</th>\n",
       "      <td>2024-05-20 18:10:28</td>\n",
       "      <td>36</td>\n",
       "      <td>0.0057</td>\n",
       "      <td>-0.25</td>\n",
       "      <td>0.032</td>\n",
       "      <td>-43.859649</td>\n",
       "      <td>5.614035</td>\n",
       "    </tr>\n",
       "    <tr>\n",
       "      <th>186</th>\n",
       "      <td>2024-05-20 19:27:33</td>\n",
       "      <td>36</td>\n",
       "      <td>0.0050</td>\n",
       "      <td>0.39</td>\n",
       "      <td>0.032</td>\n",
       "      <td>78.000000</td>\n",
       "      <td>6.400000</td>\n",
       "    </tr>\n",
       "    <tr>\n",
       "      <th>200</th>\n",
       "      <td>2024-05-21 21:24:37</td>\n",
       "      <td>38</td>\n",
       "      <td>0.0053</td>\n",
       "      <td>0.10</td>\n",
       "      <td>0.056</td>\n",
       "      <td>18.867925</td>\n",
       "      <td>10.566038</td>\n",
       "    </tr>\n",
       "  </tbody>\n",
       "</table>\n",
       "</div>"
      ],
      "text/plain": [
       "                    Date  Batch    Diff  Weight_change  \\\n",
       "25   2024-04-26 02:26:33      6 -0.0033           0.00   \n",
       "26   2024-04-26 02:42:57      6  0.0024          -0.16   \n",
       "29   2024-04-26 06:58:01      6 -0.0012           0.09   \n",
       "31   2024-04-26 10:09:27      7  0.0027          -0.25   \n",
       "32   2024-04-26 11:04:37      7  0.0028           0.04   \n",
       "33   2024-04-26 11:12:12      7 -0.0042           0.20   \n",
       "37   2024-04-26 16:46:41      8  0.0011          -0.06   \n",
       "38   2024-04-26 17:23:58      8 -0.0011          -0.07   \n",
       "42   2024-04-27 04:29:36     10  0.0012           0.03   \n",
       "44   2024-04-27 07:10:38     10  0.0023           0.36   \n",
       "46   2024-04-27 07:41:30     10  0.0037           0.38   \n",
       "58   2024-04-28 22:39:15     13  0.0013          -0.17   \n",
       "69   2024-05-05 13:27:58     18  0.0047           0.20   \n",
       "74   2024-05-06 00:35:02     19  0.0010          -0.06   \n",
       "90   2024-05-07 11:21:31     20  0.0016           0.19   \n",
       "93   2024-05-07 11:47:48     20  0.0015          -0.29   \n",
       "96   2024-05-07 16:53:45     20 -0.0013           0.01   \n",
       "98   2024-05-08 06:35:25     22  0.0055          -0.24   \n",
       "104  2024-05-08 20:13:59     23  0.0023          -0.04   \n",
       "105  2024-05-08 20:25:11     23  0.0011           0.14   \n",
       "122  2024-05-09 16:33:17     24 -0.0013          -0.02   \n",
       "129  2024-05-10 00:48:24     26  0.0056          -0.01   \n",
       "149  2024-05-13 04:03:40     29  0.0010          -0.03   \n",
       "161  2024-05-14 17:58:01     33  0.0033           0.15   \n",
       "162  2024-05-14 18:40:08     33  0.0018           0.32   \n",
       "168  2024-05-20 02:19:37     36 -0.0044          -0.66   \n",
       "183  2024-05-20 18:10:28     36  0.0057          -0.25   \n",
       "186  2024-05-20 19:27:33     36  0.0050           0.39   \n",
       "200  2024-05-21 21:24:37     38  0.0053           0.10   \n",
       "\n",
       "     Weight_smoothed_change          K1         K2  \n",
       "25                   -0.030         NaN   9.090909  \n",
       "26                    0.026  -66.666667  10.833333  \n",
       "29                   -0.016  -75.000000  13.333333  \n",
       "31                    0.038  -92.592593  14.074074  \n",
       "32                    0.026   14.285714   9.285714  \n",
       "33                   -0.034  -47.619048   8.095238  \n",
       "37                    0.016  -54.545455  14.545455  \n",
       "38                   -0.008   63.636364   7.272727  \n",
       "42                    0.008   25.000000   6.666667  \n",
       "44                    0.022  156.521739   9.565217  \n",
       "46                    0.030  102.702703   8.108108  \n",
       "58                    0.010 -130.769231   7.692308  \n",
       "69                    0.062   42.553191  13.191489  \n",
       "74                    0.006  -60.000000   6.000000  \n",
       "90                    0.008  118.750000   5.000000  \n",
       "93                    0.018 -193.333333  12.000000  \n",
       "96                   -0.018   -7.692308  13.846154  \n",
       "98                    0.053  -43.636364   9.636364  \n",
       "104                   0.028  -17.391304  12.173913  \n",
       "105                   0.012  127.272727  10.909091  \n",
       "122                  -0.016   15.384615  12.307692  \n",
       "129                   0.034   -1.785714   6.071429  \n",
       "149                   0.006  -30.000000   6.000000  \n",
       "161                   0.028   45.454545   8.484848  \n",
       "162                   0.014  177.777778   7.777778  \n",
       "168                  -0.052  150.000000  11.818182  \n",
       "183                   0.032  -43.859649   5.614035  \n",
       "186                   0.032   78.000000   6.400000  \n",
       "200                   0.056   18.867925  10.566038  "
      ]
     },
     "execution_count": 8,
     "metadata": {},
     "output_type": "execute_result"
    }
   ],
   "source": [
    "df_3"
   ]
  },
  {
   "cell_type": "code",
   "execution_count": 13,
   "metadata": {
    "gather": {
     "logged": 1720592385403
    },
    "jupyter": {
     "outputs_hidden": false,
     "source_hidden": false
    },
    "nteract": {
     "transient": {
      "deleting": false
     }
    }
   },
   "outputs": [
    {
     "name": "stdout",
     "output_type": "stream",
     "text": [
      "9.118441694265563\n"
     ]
    },
    {
     "data": {
      "text/plain": [
       "['distance_3_roller.joblib']"
      ]
     },
     "execution_count": 13,
     "metadata": {},
     "output_type": "execute_result"
    }
   ],
   "source": [
    "model.fit(df_3[['Diff']], df_3['Weight_smoothed_change'])\n",
    "print (model.coef_[0])\n",
    "joblib.dump(model, 'distance_3_roller.joblib')\n"
   ]
  },
  {
   "cell_type": "code",
   "execution_count": 14,
   "metadata": {
    "gather": {
     "logged": 1720592421097
    },
    "jupyter": {
     "outputs_hidden": false,
     "source_hidden": false
    },
    "nteract": {
     "transient": {
      "deleting": false
     }
    }
   },
   "outputs": [],
   "source": [
    "m = joblib.load('distance_3_roller.joblib')"
   ]
  },
  {
   "cell_type": "code",
   "execution_count": 16,
   "metadata": {
    "gather": {
     "logged": 1720592443084
    },
    "jupyter": {
     "outputs_hidden": false,
     "source_hidden": false
    },
    "nteract": {
     "transient": {
      "deleting": false
     }
    }
   },
   "outputs": [
    {
     "name": "stderr",
     "output_type": "stream",
     "text": [
      "/anaconda/envs/azureml_py310_sdkv2/lib/python3.10/site-packages/sklearn/base.py:439: UserWarning: X does not have valid feature names, but LinearRegression was fitted with feature names\n",
      "  warnings.warn(\n"
     ]
    },
    {
     "data": {
      "text/plain": [
       "array([0.01722446])"
      ]
     },
     "execution_count": 16,
     "metadata": {},
     "output_type": "execute_result"
    }
   ],
   "source": [
    "m.predict([[0.002]])"
   ]
  },
  {
   "cell_type": "code",
   "execution_count": 18,
   "metadata": {
    "gather": {
     "logged": 1720592551220
    },
    "jupyter": {
     "outputs_hidden": false,
     "source_hidden": false
    },
    "nteract": {
     "transient": {
      "deleting": false
     }
    }
   },
   "outputs": [
    {
     "name": "stdout",
     "output_type": "stream",
     "text": [
      "8.588264058679732\n"
     ]
    },
    {
     "data": {
      "text/plain": [
       "['distance_forming_roller.joblib']"
      ]
     },
     "execution_count": 18,
     "metadata": {},
     "output_type": "execute_result"
    }
   ],
   "source": [
    "df_forming = pd.read_csv('results_Forming Roller 定型辊间隙.csv')\n",
    "df_forming = df_forming[(df_forming['K2']>=5) & (df_forming['K2']<=15)]\n",
    "model = LinearRegression()\n",
    "model.fit(df_forming[['Diff']], df_forming['Weight_smoothed_change'])\n",
    "print (model.coef_[0])\n",
    "joblib.dump(model, 'distance_forming_roller.joblib')"
   ]
  },
  {
   "cell_type": "code",
   "execution_count": 28,
   "metadata": {
    "gather": {
     "logged": 1720594308294
    },
    "jupyter": {
     "outputs_hidden": false,
     "source_hidden": false
    },
    "nteract": {
     "transient": {
      "deleting": false
     }
    }
   },
   "outputs": [
    {
     "name": "stdout",
     "output_type": "stream",
     "text": [
      "-0.048664806695894944\n"
     ]
    },
    {
     "data": {
      "text/plain": [
       "['temp_1.joblib']"
      ]
     },
     "execution_count": 28,
     "metadata": {},
     "output_type": "execute_result"
    }
   ],
   "source": [
    "df_t1 = pd.read_csv('results_1号冷辊入口温度.csv')\n",
    "df_t1 = df_t1[(df_t1['K2']>=-0.066667) & (df_t1['K2']<=-0.04)]\n",
    "model = LinearRegression()\n",
    "model.fit(df_t1[['Diff']], df_t1['Weight_smoothed_change'])\n",
    "print (model.coef_[0])\n",
    "joblib.dump(model, 'temp_1.joblib')"
   ]
  },
  {
   "cell_type": "code",
   "execution_count": 29,
   "metadata": {
    "gather": {
     "logged": 1720594312340
    },
    "jupyter": {
     "outputs_hidden": false,
     "source_hidden": false
    },
    "nteract": {
     "transient": {
      "deleting": false
     }
    }
   },
   "outputs": [
    {
     "name": "stdout",
     "output_type": "stream",
     "text": [
      "-0.05011787020728886\n"
     ]
    },
    {
     "data": {
      "text/plain": [
       "['temp_2.joblib']"
      ]
     },
     "execution_count": 29,
     "metadata": {},
     "output_type": "execute_result"
    }
   ],
   "source": [
    "df_t2 = pd.read_csv('results_2号冷辊入口温度.csv')\n",
    "df_t2 = df_t2[(df_t2['K2']>=-0.066667) & (df_t2['K2']<=-0.04)]\n",
    "model = LinearRegression()\n",
    "model.fit(df_t2[['Diff']], df_t2['Weight_smoothed_change'])\n",
    "print (model.coef_[0])\n",
    "joblib.dump(model, 'temp_2.joblib')"
   ]
  },
  {
   "cell_type": "code",
   "execution_count": 30,
   "metadata": {
    "gather": {
     "logged": 1720594325220
    },
    "jupyter": {
     "outputs_hidden": false,
     "source_hidden": false
    },
    "nteract": {
     "transient": {
      "deleting": false
     }
    }
   },
   "outputs": [
    {
     "name": "stdout",
     "output_type": "stream",
     "text": [
      "-0.022297802763903227\n"
     ]
    },
    {
     "data": {
      "text/plain": [
       "['speed_Cross_Roller.joblib']"
      ]
     },
     "execution_count": 30,
     "metadata": {},
     "output_type": "execute_result"
    }
   ],
   "source": [
    "df_Cross_Roller = pd.read_csv('results_Cross Scoring Rollers 横刀速度.csv')\n",
    "df_Cross_Roller = df_Cross_Roller[(df_Cross_Roller['K2']>=-0.04) & (df_Cross_Roller['K2']<=-0.013333)]\n",
    "model = LinearRegression()\n",
    "model.fit(df_Cross_Roller[['Diff']], df_Cross_Roller['Weight_smoothed_change'])\n",
    "print (model.coef_[0])\n",
    "joblib.dump(model, 'speed_Cross_Roller.joblib')"
   ]
  },
  {
   "cell_type": "code",
   "execution_count": 11,
   "metadata": {},
   "outputs": [],
   "source": [
    "import os\n",
    "import pandas as pd\n",
    "from sklearn.linear_model import LinearRegression\n",
    "import joblib"
   ]
  },
  {
   "cell_type": "code",
   "execution_count": 12,
   "metadata": {},
   "outputs": [],
   "source": [
    "# 读取priori表\n",
    "priori = pd.read_excel(\"/Users/yue.a.tao/Desktop/Desktop/Gum/Data/Priori_Knowledge.xlsx\")"
   ]
  },
  {
   "cell_type": "code",
   "execution_count": 13,
   "metadata": {},
   "outputs": [],
   "source": [
    "# 获取当前目录下的所有CSV文件\n",
    "csv_files = [f for f in os.listdir() if f.startswith('results_') and f.endswith('.csv')]"
   ]
  },
  {
   "cell_type": "code",
   "execution_count": null,
   "metadata": {},
   "outputs": [],
   "source": [
    "# 遍历所有CSV文件\n",
    "for csv_file in csv_files:\n",
    "    # 获取参数名称\n",
    "    param_name = csv_file.replace('results_', '').replace('.csv', '')\n",
    "\n",
    "    # 查找priori表中的Lower_K和Upper_K\n",
    "    try:\n",
    "        lower_k = priori[priori['Parameter'] == param_name]['Lower_K'].values[0]\n",
    "        upper_k = priori[priori['Parameter'] == param_name]['Upper_K'].values[0]\n",
    "    except IndexError:\n",
    "        print(f\"Error: Parameter {param_name} not found in priori table.\")\n",
    "        continue\n",
    "\n",
    "    # 读取CSV文件\n",
    "    df = pd.read_csv(csv_file)\n",
    "\n",
    "    # 筛选数据\n",
    "    df_filtered_k2 = df[(df['K2'] >= lower_k) & (df['K2'] <= upper_k)]\n",
    "\n",
    "    if len(df_filtered_k2) > 1:\n",
    "        # 使用K2进行建模\n",
    "        model = LinearRegression()\n",
    "        model.fit(df_filtered_k2[['Diff']], df_filtered_k2['Weight_smoothed_change'])\n",
    "        print(f\"Model coefficient for {param_name} using K2: {model.coef_[0]}\")\n",
    "        # 保存模型\n",
    "        joblib.dump(model, f'{param_name}.joblib')\n",
    "    else:\n",
    "        # 使用K1进行筛选和建模\n",
    "        df_filtered_k1 = df[(df['K1'] >= lower_k) & (df['K1'] <= upper_k)]\n",
    "        if len(df_filtered_k1) > 1:\n",
    "            model = LinearRegression()\n",
    "            model.fit(df_filtered_k1[['Diff']], df_filtered_k1['Weight_change'])\n",
    "            print(f\"Model coefficient for {param_name} using K1: {model.coef_[0]}\")\n",
    "            # 保存模型\n",
    "            joblib.dump(model, f'{param_name}.joblib')\n",
    "        else:\n",
    "            print(f\"Error: Model not found for {param_name}, due to limited data points.\")"
   ]
  }
 ],
 "metadata": {
  "kernel_info": {
   "name": "python310-sdkv2"
  },
  "kernelspec": {
   "display_name": "Python 3 (ipykernel)",
   "language": "python",
   "name": "python3"
  },
  "language_info": {
   "codemirror_mode": {
    "name": "ipython",
    "version": 3
   },
   "file_extension": ".py",
   "mimetype": "text/x-python",
   "name": "python",
   "nbconvert_exporter": "python",
   "pygments_lexer": "ipython3",
   "version": "3.11.4"
  },
  "microsoft": {
   "host": {
    "AzureML": {
     "notebookHasBeenCompleted": true
    }
   },
   "ms_spell_check": {
    "ms_spell_check_language": "en"
   }
  },
  "nteract": {
   "version": "nteract-front-end@1.0.0"
  }
 },
 "nbformat": 4,
 "nbformat_minor": 2
}
