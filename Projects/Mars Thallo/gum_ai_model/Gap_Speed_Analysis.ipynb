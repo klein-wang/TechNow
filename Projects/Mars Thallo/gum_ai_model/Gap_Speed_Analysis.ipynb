{
 "cells": [
  {
   "cell_type": "code",
   "execution_count": null,
   "id": "028adac2",
   "metadata": {},
   "outputs": [],
   "source": [
    "以下代码解释：\n",
    "\n",
    "1.读取CSV文件：使用pandas读取CSV文件并解析日期列。\n",
    "2.计算每次间隙调整和速度调整的平均时间差：\n",
    "• calculate_time_diff_threshold函数遍历所有间隙和速度列，计算每次间隙变化后的速度变化时间差，并筛选出时间差在10分钟以内的记录，最后返回平均时间差。\n",
    "3.识别间隙和速度调整，并生成最终表格：\n",
    "• analyze_adjustments函数遍历所有辊轮间隙列，检测每次间隙变化，查找每个间隙变化后的速度变化记录，筛选出在阈值时间内的记录，并将相关信息存储在结果列表中，最后转换为数据框。\n",
    "4.结果输出：\n",
    "• 最后调用analyze_adjustments函数进行分析，并输出结果数据框的前几行。"
   ]
  },
  {
   "cell_type": "code",
   "execution_count": 2,
   "id": "a61b1abd",
   "metadata": {},
   "outputs": [
    {
     "name": "stdout",
     "output_type": "stream",
     "text": [
      "           Item  Sugar  batch    gap     gap_change_time  gap_before  \\\n",
      "0   DMPE 绿箭原味薄荷  Sugar      2  1号辊间隙 2024-05-28 02:25:58         NaN   \n",
      "1  DMRR（真叶玫瑰薄荷）  Sugar      6  1号辊间隙 2024-05-30 10:41:20      0.0997   \n",
      "2  DMRR（真叶玫瑰薄荷）  Sugar      6  1号辊间隙 2024-05-30 10:41:20      0.0997   \n",
      "3    DMRM（真叶薄荷）  Sugar      7  1号辊间隙 2024-05-30 23:14:58      0.1010   \n",
      "4    DMRJ（茉莉薄荷）  Sugar      8  1号辊间隙 2024-05-31 04:10:05      0.1002   \n",
      "\n",
      "   gap_after                speed   speed_change_time  speed_before  \\\n",
      "0     0.0997  Forming Roller 辊轮速度 2024-05-28 02:25:58         165.8   \n",
      "1     0.1010               1号辊轮速度 2024-05-30 10:41:27          83.6   \n",
      "2     0.1010  Forming Roller 辊轮速度 2024-05-30 10:42:05         165.6   \n",
      "3     0.1002  Forming Roller 辊轮速度 2024-05-30 23:16:25         165.5   \n",
      "4     0.1048               1号辊轮速度 2024-05-31 04:10:05          85.3   \n",
      "\n",
      "   speed_after  \n",
      "0        165.7  \n",
      "1         83.7  \n",
      "2        165.4  \n",
      "3        165.4  \n",
      "4          7.8  \n"
     ]
    }
   ],
   "source": [
    "import pandas as pd\n",
    "import numpy as np\n",
    "\n",
    "# 读取CSV文件\n",
    "combined_data = pd.read_csv(\"/Users/yue.a.tao/Desktop/Desktop/Gum/Data/combined_data_gap_speed.csv\", parse_dates=['Date'])\n",
    "\n",
    "# 计算每次间隙调整和速度调整的平均时间差\n",
    "def calculate_time_diff_threshold(data, gap_cols, speed_cols, gap_threshold=0.001, speed_threshold=0.1):\n",
    "    time_diffs = []\n",
    "\n",
    "    for gap_col in gap_cols:\n",
    "        # 计算间隙变化\n",
    "        data[gap_col + '_change'] = data[gap_col].diff().fillna(0)\n",
    "        gap_changes = data.loc[abs(data[gap_col + '_change']) > gap_threshold, ['Date']]\n",
    "\n",
    "        for gap_time in gap_changes['Date']:\n",
    "            for speed_col in speed_cols:\n",
    "                # 计算速度变化\n",
    "                data[speed_col + '_change'] = data[speed_col].diff().fillna(0)\n",
    "                speed_changes = data.loc[abs(data[speed_col + '_change']) > speed_threshold, ['Date']]\n",
    "\n",
    "                # 查找间隙变化后的第一个速度变化记录\n",
    "                speed_change = speed_changes.loc[speed_changes['Date'] > gap_time, 'Date'].head(1)\n",
    "                if not speed_change.empty:\n",
    "                    time_diff = (speed_change.values[0] - gap_time) / np.timedelta64(1, 'm')\n",
    "                    if time_diff <= 10:  # 筛选时间差在10分钟以内的记录\n",
    "                        time_diffs.append(time_diff)\n",
    "\n",
    "    # 返回平均时间差\n",
    "    return np.mean(time_diffs)\n",
    "\n",
    "# 主要函数：识别间隙和速度调整，并生成最终表格\n",
    "def analyze_adjustments(data):\n",
    "    gap_cols = [\"1号辊间隙\", \"2号辊间隙\", \"3号辊间隙\", \"Forming Roller 定型辊间隙\"]\n",
    "    speed_cols = [\"1号辊轮速度\", \"2号辊轮速度\", \"3号辊轮速度\", \"Forming Roller 辊轮速度\"]\n",
    "\n",
    "    # 计算所有辊轮间隙调整与速度调整之间的平均时间差\n",
    "    threshold = calculate_time_diff_threshold(data, gap_cols, speed_cols)\n",
    "    results = []\n",
    "\n",
    "    for gap_col in gap_cols:\n",
    "        # 检测间隙变化\n",
    "        data[gap_col + '_change'] = data[gap_col].diff().fillna(0)\n",
    "        gap_changes = data.loc[abs(data[gap_col + '_change']) > 0.001, ['Date', gap_col]]\n",
    "        gap_changes['gap_before'] = gap_changes[gap_col].shift(1)\n",
    "        gap_changes['gap_after'] = gap_changes[gap_col]\n",
    "\n",
    "        for index, row in gap_changes.iterrows():\n",
    "            gap_time = row['Date']\n",
    "\n",
    "            for speed_col in speed_cols:\n",
    "                # 检测速度变化\n",
    "                data[speed_col + '_change'] = data[speed_col].diff().fillna(0)\n",
    "                speed_changes = data.loc[abs(data[speed_col + '_change']) > 0.1, ['Date', speed_col]]\n",
    "                speed_changes['speed_before'] = speed_changes[speed_col].shift(1)\n",
    "                speed_changes['speed_after'] = speed_changes[speed_col]\n",
    "\n",
    "                # 查找在阈值时间内的第一个速度变化记录\n",
    "                speed_change = speed_changes.loc[(speed_changes['Date'] >= gap_time) & (speed_changes['Date'] <= (gap_time + pd.Timedelta(minutes=threshold))), :].head(1)\n",
    "\n",
    "                if not speed_change.empty:\n",
    "                    temp = {\n",
    "                        'Item': data.loc[data['Date'] == gap_time, 'Item'].values[0],\n",
    "                        'Sugar': data.loc[data['Date'] == gap_time, 'Sugar'].values[0],\n",
    "                        'batch': data.loc[data['Date'] == gap_time, 'batch'].values[0],\n",
    "                        'gap': gap_col,\n",
    "                        'gap_change_time': gap_time,\n",
    "                        'gap_before': row['gap_before'],\n",
    "                        'gap_after': row['gap_after'],\n",
    "                        'speed': speed_col,\n",
    "                        'speed_change_time': speed_change['Date'].values[0],\n",
    "                        'speed_before': speed_change['speed_before'].values[0],\n",
    "                        'speed_after': speed_change['speed_after'].values[0]\n",
    "                    }\n",
    "                    results.append(temp)\n",
    "\n",
    "    return pd.DataFrame(results)\n",
    "\n",
    "# 调用函数进行分析\n",
    "results = analyze_adjustments(combined_data)\n",
    "\n",
    "# 打印结果\n",
    "print(results.head())"
   ]
  },
  {
   "cell_type": "code",
   "execution_count": 3,
   "id": "a4f89142",
   "metadata": {},
   "outputs": [],
   "source": [
    "# 保存结果为Excel文件\n",
    "results.to_excel(\"/Users/yue.a.tao/Desktop/Desktop/Gum/Data/results_gap_speed.xlsx\", index=False)"
   ]
  },
  {
   "cell_type": "code",
   "execution_count": 5,
   "id": "ad62551e",
   "metadata": {},
   "outputs": [],
   "source": [
    "gap_cols = [\"1号辊间隙\", \"2号辊间隙\", \"3号辊间隙\", \"Forming Roller 定型辊间隙\"]\n",
    "speed_cols = [\"1号辊轮速度\", \"2号辊轮速度\", \"3号辊轮速度\", \"Forming Roller 辊轮速度\"]\n"
   ]
  },
  {
   "cell_type": "code",
   "execution_count": 7,
   "id": "8c31a872",
   "metadata": {},
   "outputs": [],
   "source": [
    "threshold = calculate_time_diff_threshold(combined_data, gap_cols, speed_cols)"
   ]
  },
  {
   "cell_type": "code",
   "execution_count": 8,
   "id": "148f8491",
   "metadata": {
    "scrolled": false
   },
   "outputs": [
    {
     "name": "stdout",
     "output_type": "stream",
     "text": [
      "1.851113337149399\n"
     ]
    }
   ],
   "source": [
    "print(threshold)"
   ]
  }
 ],
 "metadata": {
  "kernelspec": {
   "display_name": "Python 3 (ipykernel)",
   "language": "python",
   "name": "python3"
  },
  "language_info": {
   "codemirror_mode": {
    "name": "ipython",
    "version": 3
   },
   "file_extension": ".py",
   "mimetype": "text/x-python",
   "name": "python",
   "nbconvert_exporter": "python",
   "pygments_lexer": "ipython3",
   "version": "3.11.4"
  }
 },
 "nbformat": 4,
 "nbformat_minor": 5
}
