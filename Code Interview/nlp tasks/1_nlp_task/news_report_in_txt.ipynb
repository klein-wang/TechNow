{
 "cells": [
  {
   "cell_type": "markdown",
   "metadata": {},
   "source": [
    "#### Reading News"
   ]
  },
  {
   "cell_type": "code",
   "execution_count": 1,
   "metadata": {},
   "outputs": [],
   "source": [
    "# loading packages (pip/pip3 list for new packages)\n",
    "import re\n",
    "import pandas as pd\n",
    "from datetime import datetime\n",
    "import matplotlib.pyplot as plt\n",
    "import spacy\n",
    "# python3 -m spacy download en_core_web_trf\n",
    "nlp = spacy.load('en_core_web_trf') # Loading Spacy's English model | run python/python3 -m spacy download en_core_web_trf to download first\n",
    "# try 'en_core_web_md' or 'en_core_web_lg' for higher accuracy"
   ]
  },
  {
   "cell_type": "markdown",
   "metadata": {},
   "source": [
    "##### Task1: reading article by line"
   ]
  },
  {
   "cell_type": "code",
   "execution_count": 4,
   "metadata": {},
   "outputs": [
    {
     "name": "stdout",
     "output_type": "stream",
     "text": [
      "1870 articles have been imported.\n"
     ]
    }
   ],
   "source": [
    "file_path = \"sample.txt\"\n",
    "\n",
    "try:\n",
    "    with open(file_path, 'r', encoding='utf-8') as file:\n",
    "        articles = file.readlines()[:]  # Change the number to adjust the sample size\n",
    "        # for article in articles:\n",
    "        #     print(article)\n",
    "except FileNotFoundError:\n",
    "    print(f\"File '{file_path}' not found.\")\n",
    "\n",
    "print(f'{len(articles)} articles have been imported.')"
   ]
  },
  {
   "cell_type": "markdown",
   "metadata": {},
   "source": [
    "##### Task2: count articles which contain 'gold', 'silver'"
   ]
  },
  {
   "cell_type": "code",
   "execution_count": 19,
   "metadata": {},
   "outputs": [
    {
     "name": "stdout",
     "output_type": "stream",
     "text": [
      "Total articles containing gold: 691\n",
      "Total articles containing silver: 109\n"
     ]
    }
   ],
   "source": [
    "# Find 'gold' & 'silver' and count articles\n",
    "def string_matcher(article):\n",
    "    article_lower = article.lower()\n",
    "    contains_gold = \"gold\" in article_lower\n",
    "    contains_silver = \"silver\" in article_lower\n",
    "    return contains_gold, contains_silver\n",
    "\n",
    "gold_count = 0\n",
    "silver_count = 0\n",
    "\n",
    "for i, text in enumerate(articles):\n",
    "    contains_gold, contains_silver = string_matcher(text)\n",
    "    # print(f'Article{i} contains gold: {contains_gold} and silver: {contains_silver}.')\n",
    "    \n",
    "    if contains_gold:\n",
    "        gold_count += 1\n",
    "        # print(text)\n",
    "    if contains_silver:\n",
    "        silver_count += 1\n",
    "        # print(text)\n",
    "print(f'Total articles containing gold: {gold_count}')\n",
    "print(f'Total articles containing silver: {silver_count}')"
   ]
  },
  {
   "cell_type": "markdown",
   "metadata": {},
   "source": [
    "By looking at the result, it seems many articles contains gold or silver."
   ]
  },
  {
   "cell_type": "markdown",
   "metadata": {},
   "source": [
    "##### Task3: Further excluding any misleading content with gold/silver"
   ]
  },
  {
   "cell_type": "code",
   "execution_count": 22,
   "metadata": {},
   "outputs": [
    {
     "name": "stdout",
     "output_type": "stream",
     "text": [
      "Total articles containing gold: 596\n",
      "Total articles containing silver: 102\n",
      "Updated false positives for gold: ['gold standard', 'goldilocks', \"gold's\", 'anglogold', 'anglogold', 'ashgold', 'randgold', 'golden', 'goldman', 'gold/copper', 'gold-plated', '23.0275.gold', 'goldsmith', '“gold-tinted', '24kgoldn', 'https://www.theaustralian.com.au/business/dgo-gold-aiming-to-strike-a-balance-in-gold-exploration/news-story/231d9ce048bfd7d7f87545741008db15dgo', '“gold', 'australia.“gold', 'gold’s', 'gold.dgo', 'golder', 'discovergold', 'goldmine', 'https://www.theedgesingapore.com/capital/investing-ideas/rotate-back-technology-stocks-gold-says-dbs', '1.9%.gold', 'goldsbury', 'goldsbury', 'goldsbury', 'goldfarming', 'gold-backed', 'https://www.history.com/this-day-in-history/fdr-takes-united-states-off-gold-standard', 'goldberg', 'gold--in', 'goldwyn', 'goldwyns', 'goldstein', 'added.gold', \"snip.http://www.cratergold.com.au/irm/content/polymetallic-project.aspx?rid=310&redirectcount=1they've\", 'gold/silver']\n",
      "Updated false positives for silver: ['silver lining', 'silverware', 'silverwater', 'silverwater', 'silverwater', 'silverwater', 'silvertown', 'info@reynasilver.com', 'www.reynasilver.com', 'silver’s', 'silver…', 'silverado', 'silvery', 'silvery', 'silverlink', 'benefits.silver', 'silverash', '“silver', '“silver', 'gold/silver']\n"
     ]
    }
   ],
   "source": [
    "# Create dictionary of context-specific conditions\n",
    "false_positives = {\n",
    "    \"gold\": [\"gold standard\", \"goldilocks\"],\n",
    "    \"silver\": [\"silver lining\"]\n",
    "}\n",
    "\n",
    "import string \n",
    "\n",
    "# Find 'gold' & 'silver' with context-specific checks\n",
    "def string_matcher(article):\n",
    "    article_lower = article.lower()\n",
    "    contains_gold = False\n",
    "    contains_silver = False\n",
    "    gold_matched_terms_list = [] # list to store matched terms\n",
    "    silver_matched_terms_list = [] # list to store matched terms\n",
    "\n",
    "    # Check for \"gold\" with context-specific conditions\n",
    "    if \"gold\" in article_lower:\n",
    "        if any(phrase in article_lower for phrase in false_positives[\"gold\"]):\n",
    "            contains_gold = False\n",
    "        else:\n",
    "            contains_gold = True\n",
    "            matched_terms = [term for term in article_lower.split() if term != \"gold\" and \"gold\" in term \n",
    "                                                                            and term not in false_positives[\"gold\"]\n",
    "                                                                            and not term.startswith(tuple(string.punctuation))\n",
    "                                                                            and not term.endswith(tuple(string.punctuation))]\n",
    "            gold_matched_terms_list.extend(matched_terms)\n",
    "\n",
    "    # Check for \"silver\" with context-specific conditions\n",
    "    if \"silver\" in article_lower:\n",
    "        if any(phrase in article_lower for phrase in false_positives[\"silver\"]):\n",
    "            contains_silver = False\n",
    "        else:\n",
    "            contains_silver = True\n",
    "            matched_terms = [term for term in article_lower.split() if term != \"silver\" and \"silver\" in term \n",
    "                                                                            and term not in false_positives[\"silver\"]\n",
    "                                                                            and not term.startswith(tuple(string.punctuation))\n",
    "                                                                            and not term.endswith(tuple(string.punctuation))]\n",
    "            silver_matched_terms_list.extend(matched_terms)\n",
    "\n",
    "    return contains_gold, contains_silver, gold_matched_terms_list, silver_matched_terms_list\n",
    "\n",
    "\n",
    "gold_count = 0\n",
    "silver_count = 0\n",
    "\n",
    "for i, text in enumerate(articles):\n",
    "    contains_gold, contains_silver, gold_matched_terms_list, silver_matched_terms_list = string_matcher(text)\n",
    "#     print(f'Article{i} contains gold: {contains_gold} and silver: {contains_silver}.')\n",
    "    if contains_gold:\n",
    "        gold_count += 1\n",
    "        false_positives[\"gold\"].extend(gold_matched_terms_list)\n",
    "\n",
    "    if contains_silver:\n",
    "        silver_count += 1\n",
    "        false_positives[\"silver\"].extend(silver_matched_terms_list)\n",
    "\n",
    "print(f'Total articles containing gold: {gold_count}')\n",
    "print(f'Total articles containing silver: {silver_count}')\n",
    "print(f'Updated false positives for gold: {false_positives[\"gold\"]}')\n",
    "print(f'Updated false positives for silver: {false_positives[\"silver\"]}')"
   ]
  },
  {
   "cell_type": "markdown",
   "metadata": {},
   "source": [
    "##### Now that we have created the false positive dictionary, let's run the match script again by excluding cases of false positive."
   ]
  },
  {
   "cell_type": "code",
   "execution_count": 23,
   "metadata": {},
   "outputs": [
    {
     "name": "stdout",
     "output_type": "stream",
     "text": [
      "Total articles containing gold: 567\n",
      "Total articles containing silver: 91\n"
     ]
    }
   ],
   "source": [
    "# Find 'gold' & 'silver' with context-specific checks\n",
    "def string_matcher(article):\n",
    "    article_lower = article.lower()\n",
    "    contains_gold = False\n",
    "    contains_silver = False\n",
    "    gold_matched_terms_list = [] # list to store matched terms\n",
    "    silver_matched_terms_list = [] # list to store matched terms\n",
    "\n",
    "    # Check for \"gold\" with context-specific conditions\n",
    "    if \"gold\" in article_lower:\n",
    "        if any(phrase in article_lower for phrase in false_positives[\"gold\"]):\n",
    "            contains_gold = False\n",
    "        else:\n",
    "            contains_gold = True\n",
    "\n",
    "    # Check for \"silver\" with context-specific conditions\n",
    "    if \"silver\" in article_lower:\n",
    "        if any(phrase in article_lower for phrase in false_positives[\"silver\"]):\n",
    "            contains_silver = False\n",
    "        else:\n",
    "            contains_silver = True\n",
    "\n",
    "    return contains_gold, contains_silver\n",
    "\n",
    "\n",
    "gold_count = 0\n",
    "silver_count = 0\n",
    "\n",
    "for i, text in enumerate(articles):\n",
    "    contains_gold, contains_silver = string_matcher(text)\n",
    "#     print(f'Article{i} contains gold: {contains_gold} and silver: {contains_silver}.')\n",
    "    if contains_gold:\n",
    "        gold_count += 1\n",
    "\n",
    "    if contains_silver:\n",
    "        silver_count += 1\n",
    "\n",
    "print(f'Total articles containing gold: {gold_count}')\n",
    "print(f'Total articles containing silver: {silver_count}')"
   ]
  }
 ],
 "metadata": {
  "kernelspec": {
   "display_name": "Python 3",
   "language": "python",
   "name": "python3"
  },
  "language_info": {
   "codemirror_mode": {
    "name": "ipython",
    "version": 3
   },
   "file_extension": ".py",
   "mimetype": "text/x-python",
   "name": "python",
   "nbconvert_exporter": "python",
   "pygments_lexer": "ipython3",
   "version": "3.11.5"
  }
 },
 "nbformat": 4,
 "nbformat_minor": 2
}
