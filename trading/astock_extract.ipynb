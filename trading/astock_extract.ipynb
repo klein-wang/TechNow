{
 "cells": [
  {
   "cell_type": "markdown",
   "metadata": {},
   "source": [
    "#### Reading Stocks"
   ]
  },
  {
   "cell_type": "code",
   "execution_count": 3,
   "metadata": {},
   "outputs": [],
   "source": [
    "# loading packages (pip/pip3 list for new packages)\n",
    "import pandas as pd\n",
    "from datetime import datetime\n",
    "import matplotlib.pyplot as plt\n",
    "import akshare as ak "
   ]
  },
  {
   "cell_type": "code",
   "execution_count": 33,
   "metadata": {},
   "outputs": [
    {
     "name": "stderr",
     "output_type": "stream",
     "text": [
      "                                                                         \r"
     ]
    }
   ],
   "source": [
    "df_raw = ak.stock_zh_a_spot()"
   ]
  },
  {
   "cell_type": "code",
   "execution_count": 35,
   "metadata": {},
   "outputs": [
    {
     "data": {
      "text/plain": [
       "<bound method NDFrame.head of             代码    名称     最新价   涨跌额    涨跌幅      买入      卖出      昨收      今开  \\\n",
       "0     bj430017  星昊医药   13.10 -0.74 -5.347   13.09   13.10   13.84   13.65   \n",
       "1     bj430047  诺思兰德   14.97 -0.47 -3.044   14.97   15.03   15.44   15.56   \n",
       "2     bj430090  同辉信息    3.66 -0.19 -4.935    3.65    3.66    3.85    3.81   \n",
       "3     bj430139  华岭股份   12.33 -0.50 -3.897   12.33   12.34   12.83   12.79   \n",
       "4     bj430198  微创光电    9.18 -0.58 -5.943    9.18    9.19    9.76    9.79   \n",
       "...        ...   ...     ...   ...    ...     ...     ...     ...     ...   \n",
       "5346  sz301568   思泰克   38.81  1.89  5.119   38.81   38.82   36.92   36.87   \n",
       "5347  sz301577  美信科技   60.10  4.32  7.745   60.10   60.11   55.78   55.00   \n",
       "5348  sz301578  辰奕智能   54.51  2.08  3.967   54.51   54.52   52.43   51.37   \n",
       "5349  sz301589  诺瓦星云  431.90  3.75  0.876  431.90  432.00  428.15  423.00   \n",
       "5350  sz301591   C肯特   55.32 -3.46 -5.886   55.32   55.33   58.78   57.65   \n",
       "\n",
       "          最高      最低        成交量          成交额       时间戳  \n",
       "0      13.68   13.01  2098217.0   27838551.0  15:30:02  \n",
       "1      15.57   14.95  1332822.0   20138967.0  15:30:02  \n",
       "2       3.89    3.60  8793335.0   32802959.0  15:30:02  \n",
       "3      12.96   12.27  2211548.0   27639343.0  15:30:02  \n",
       "4       9.83    9.09  7155545.0   67117503.0  15:30:02  \n",
       "...      ...     ...        ...          ...       ...  \n",
       "5346   38.81   35.87  6796443.0  255282472.0  15:35:15  \n",
       "5347   62.44   55.00  5704160.0  338972504.0  15:35:30  \n",
       "5348   54.51   49.88  3830213.0  201461668.0  15:35:45  \n",
       "5349  439.98  416.51   851254.0  365380045.0  15:35:00  \n",
       "5350   58.12   55.15  7679466.0  433962074.0  15:35:15  \n",
       "\n",
       "[5351 rows x 14 columns]>"
      ]
     },
     "execution_count": 35,
     "metadata": {},
     "output_type": "execute_result"
    }
   ],
   "source": [
    "df_raw.head"
   ]
  },
  {
   "cell_type": "code",
   "execution_count": 48,
   "metadata": {},
   "outputs": [],
   "source": [
    "df = df_raw[['代码','名称']].copy()\n",
    "df.rename(columns={'代码': 'symbol', '名称': 'name'}, inplace=True)\n",
    "symbol_name_dict = df.set_index('symbol')['name'].to_dict()\n",
    "# symbol_name_dict.get('sh600029')"
   ]
  },
  {
   "cell_type": "code",
   "execution_count": 49,
   "metadata": {},
   "outputs": [],
   "source": [
    "today = datetime.now().date().strftime(\"%Y-%m-%d\")\n",
    "start_date, end_date =\"2024-01-01\",today\n",
    "stock_list = ['sh600887','sh600009','sh600029','sh600004','sz000651']\n",
    "\n",
    "def get_signal(stock_index):\n",
    "\n",
    "    stock_data = ak.stock_zh_a_daily(symbol=stock_index, start_date=start_date, end_date=end_date)\n",
    "\n",
    "    # 计算5日和20日均线\n",
    "    stock_data[\"ma5\"] = stock_data[\"close\"].rolling(window=5).mean()\n",
    "    stock_data[\"ma20\"] = stock_data[\"close\"].rolling(window=20).mean()\n",
    "\n",
    "    # 生成买入信号（ma5向上穿越ma20）\n",
    "    stock_data[\"buy_signal\"] = (stock_data[\"ma5\"] > stock_data[\"ma20\"]) & (stock_data[\"ma5\"].shift(1) <= stock_data[\"ma20\"].shift(1))\n",
    "\n",
    "    # 生成卖出信号（ma5向下穿越ma20）\n",
    "    stock_data[\"sell_signal\"] = (stock_data[\"ma5\"] < stock_data[\"ma20\"]) & (stock_data[\"ma5\"].shift(1) >= stock_data[\"ma20\"].shift(1))\n",
    "\n",
    "    # 打印交易信号\n",
    "    signals = stock_data[[\"date\", \"buy_signal\", \"sell_signal\"]]\n",
    "    # print(signals)\n",
    "\n",
    "    return stock_data"
   ]
  },
  {
   "cell_type": "code",
   "execution_count": 53,
   "metadata": {},
   "outputs": [
    {
     "name": "stdout",
     "output_type": "stream",
     "text": [
      "伊利股份: sh600887\n",
      "\n",
      "上海机场: sh600009\n",
      "\n",
      "南方航空: sh600029\n",
      "\n",
      "白云机场: sh600004\n",
      "\n",
      "格力电器: sz000651\n",
      "\n"
     ]
    }
   ],
   "source": [
    "for stock_index in stock_list:\n",
    "    stock_data = get_signal(stock_index)\n",
    "    print(f'{symbol_name_dict.get(stock_index)}: {stock_index}\\n')"
   ]
  },
  {
   "cell_type": "markdown",
   "metadata": {},
   "source": [
    "##### Visualisation"
   ]
  },
  {
   "cell_type": "code",
   "execution_count": 14,
   "metadata": {},
   "outputs": [
    {
     "ename": "TypeError",
     "evalue": "stock_zh_index_daily() got an unexpected keyword argument 'index'",
     "output_type": "error",
     "traceback": [
      "\u001b[0;31m---------------------------------------------------------------------------\u001b[0m",
      "\u001b[0;31mTypeError\u001b[0m                                 Traceback (most recent call last)",
      "Cell \u001b[0;32mIn[14], line 2\u001b[0m\n\u001b[1;32m      1\u001b[0m \u001b[38;5;66;03m# 获取A股指数数据\u001b[39;00m\n\u001b[0;32m----> 2\u001b[0m a_share_data \u001b[38;5;241m=\u001b[39m \u001b[43mak\u001b[49m\u001b[38;5;241;43m.\u001b[39;49m\u001b[43mstock_zh_index_daily\u001b[49m\u001b[43m(\u001b[49m\u001b[43mindex\u001b[49m\u001b[38;5;241;43m=\u001b[39;49m\u001b[38;5;124;43m\"\u001b[39;49m\u001b[38;5;124;43msz000001\u001b[39;49m\u001b[38;5;124;43m\"\u001b[39;49m\u001b[43m,\u001b[49m\u001b[43m \u001b[49m\u001b[43mstart_date\u001b[49m\u001b[38;5;241;43m=\u001b[39;49m\u001b[43mstart_date\u001b[49m\u001b[43m,\u001b[49m\u001b[43m \u001b[49m\u001b[43mend_date\u001b[49m\u001b[38;5;241;43m=\u001b[39;49m\u001b[43mend_date\u001b[49m\u001b[43m)\u001b[49m\n\u001b[1;32m      4\u001b[0m \u001b[38;5;66;03m# 获取美股指数数据\u001b[39;00m\n\u001b[1;32m      5\u001b[0m us_stock_data \u001b[38;5;241m=\u001b[39m ak\u001b[38;5;241m.\u001b[39mstock_us_daily(symbol\u001b[38;5;241m=\u001b[39m\u001b[38;5;124m\"\u001b[39m\u001b[38;5;124mDJI\u001b[39m\u001b[38;5;124m\"\u001b[39m, start_date\u001b[38;5;241m=\u001b[39mstart_date, end_date\u001b[38;5;241m=\u001b[39mend_date)\n",
      "\u001b[0;31mTypeError\u001b[0m: stock_zh_index_daily() got an unexpected keyword argument 'index'"
     ]
    }
   ],
   "source": [
    "# 获取A股指数数据\n",
    "a_share_data = ak.stock_zh_index_daily(index=\"sz000001\", start_date=start_date, end_date=end_date)\n",
    "\n",
    "# 获取美股指数数据\n",
    "us_stock_data = ak.stock_us_daily(symbol=\"DJI\", start_date=start_date, end_date=end_date)\n",
    "\n",
    "# 绘制A股和美股指数比较图\n",
    "plt.figure(figsize=(12, 6))\n",
    "plt.plot(a_share_data[\"date\"], a_share_data[\"close\"], label=\"A股指数\")\n",
    "plt.plot(us_stock_data[\"date\"], us_stock_data[\"close\"], label=\"美股指数\")\n",
    "plt.xlabel(\"Date\")\n",
    "plt.ylabel(\"Close Price\")\n",
    "plt.title(\"A股和美股指数比较\")\n",
    "plt.legend()\n",
    "plt.show()"
   ]
  },
  {
   "cell_type": "markdown",
   "metadata": {},
   "source": [
    "##### # read more on https://zhuanlan.zhihu.com/p/678521592"
   ]
  }
 ],
 "metadata": {
  "kernelspec": {
   "display_name": "Python 3",
   "language": "python",
   "name": "python3"
  },
  "language_info": {
   "codemirror_mode": {
    "name": "ipython",
    "version": 3
   },
   "file_extension": ".py",
   "mimetype": "text/x-python",
   "name": "python",
   "nbconvert_exporter": "python",
   "pygments_lexer": "ipython3",
   "version": "3.11.5"
  }
 },
 "nbformat": 4,
 "nbformat_minor": 2
}
